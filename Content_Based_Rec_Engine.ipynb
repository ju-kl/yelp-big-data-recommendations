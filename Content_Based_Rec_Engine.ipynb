{
 "cells": [
  {
   "cell_type": "code",
   "execution_count": 21,
   "metadata": {},
   "outputs": [],
   "source": [
    "#import statements\n",
    "import numpy as np\n",
    "import pandas as pd\n",
    "import operator as op\n",
    "\n",
    "from pyspark.sql import HiveContext, SparkSession\n",
    "hive_context = HiveContext(sc)\n",
    "\n",
    "\n",
    "from pyspark.sql.functions import col, lit\n",
    "from pyspark.sql.types import *\n",
    "from pyspark.ml.linalg import *\n",
    "from pyspark.ml.feature import RegexTokenizer, StopWordsRemover, HashingTF, Tokenizer, StringIndexer, CountVectorizer, IDF, Word2Vec\n",
    "from pyspark.ml import Pipeline"
   ]
  },
  {
   "cell_type": "code",
   "execution_count": 22,
   "metadata": {},
   "outputs": [],
   "source": [
    "spark = SparkSession.builder.enableHiveSupport().appName('ReadWriteData').getOrCreate()\n",
    "sc = spark.sparkContext"
   ]
  },
  {
   "cell_type": "code",
   "execution_count": 23,
   "metadata": {},
   "outputs": [
    {
     "name": "stdout",
     "output_type": "stream",
     "text": [
      "WARNING: log4j.properties is not found. HADOOP_CONF_DIR may be incomplete.\n",
      "Java HotSpot(TM) 64-Bit Server VM warning: ignoring option MaxPermSize=512M; support was removed in 8.0\n",
      "Found 9 items\n",
      "drwxr-xr-x   - vvenkatesan vvenkatesan          0 2020-08-06 12:47 /user/vvenkatesan/final_project/bus_cat\n",
      "drwxr-xr-x   - kleindiek   vvenkatesan          0 2020-08-02 12:03 /user/vvenkatesan/final_project/business_json\n",
      "-rw-r--r--   3 kleindiek   vvenkatesan  248796774 2020-08-04 14:56 /user/vvenkatesan/final_project/review_subset.json\n",
      "-rw-r--r--   3 vvenkatesan vvenkatesan  449663480 2020-07-09 18:53 /user/vvenkatesan/final_project/yelp_academic_dataset_checkin.json\n",
      "-rw-r--r--   3 vvenkatesan vvenkatesan 6325565224 2020-07-09 18:54 /user/vvenkatesan/final_project/yelp_academic_dataset_review.json\n",
      "-rw-r--r--   3 kleindiek   vvenkatesan  175454655 2020-07-28 17:37 /user/vvenkatesan/final_project/yelp_academic_dataset_tip.csv\n",
      "-rw-r--r--   3 vvenkatesan vvenkatesan  263489322 2020-07-09 18:55 /user/vvenkatesan/final_project/yelp_academic_dataset_tip.json\n",
      "-rw-r--r--   3 tianjsha    vvenkatesan 3268069927 2020-08-13 16:56 /user/vvenkatesan/final_project/yelp_academic_dataset_user.json\n",
      "-rw-r--r--   3 vvenkatesan vvenkatesan  125995072 2020-08-02 11:56 /user/vvenkatesan/final_project/yelp_business.csv\n"
     ]
    }
   ],
   "source": [
    "# connect to HDFS\n",
    "!hdfs dfs -ls /user/vvenkatesan/final_project/"
   ]
  },
  {
   "cell_type": "markdown",
   "metadata": {},
   "source": [
    "## Content-Based Recommendation Engine\n",
    "\n",
    "### 1) Loading Business and Review Data"
   ]
  },
  {
   "cell_type": "code",
   "execution_count": 24,
   "metadata": {},
   "outputs": [],
   "source": [
    "df_load = spark.read.csv('/user/vvenkatesan/final_project/bus_cat/')"
   ]
  },
  {
   "cell_type": "code",
   "execution_count": 25,
   "metadata": {},
   "outputs": [
    {
     "name": "stdout",
     "output_type": "stream",
     "text": [
      "root\n",
      " |-- _c0: string (nullable = true)\n",
      " |-- _c1: string (nullable = true)\n",
      " |-- _c2: string (nullable = true)\n",
      "\n"
     ]
    }
   ],
   "source": [
    "df_load.printSchema()"
   ]
  },
  {
   "cell_type": "code",
   "execution_count": 26,
   "metadata": {},
   "outputs": [
    {
     "name": "stdout",
     "output_type": "stream",
     "text": [
      "+--------------------+----------------+--------------------+\n",
      "|                 _c0|             _c1|                 _c2|\n",
      "+--------------------+----------------+--------------------+\n",
      "|f9NumwFMBDn751xgF...|     Active Life|    Gun/Rifle Ranges|\n",
      "|Yzvjg0SayhoZgCljU...|Health & Medical|Fitness & Instruc...|\n",
      "|XNoUzKckATkOD1hP6...|            Pets|        Pet Services|\n",
      "|6OAZjbxqM5ol29BuH...| Hardware Stores|       Home Services|\n",
      "|51M2Kk903DFYI6gnB...|   Home Services|            Plumbing|\n",
      "+--------------------+----------------+--------------------+\n",
      "only showing top 5 rows\n",
      "\n"
     ]
    }
   ],
   "source": [
    "df_load.show(5)"
   ]
  },
  {
   "cell_type": "code",
   "execution_count": 27,
   "metadata": {
    "scrolled": true
   },
   "outputs": [
    {
     "name": "stdout",
     "output_type": "stream",
     "text": [
      "+--------------------+----------------+--------------------+\n",
      "|         business_id|     cat_primary|       cat_secondary|\n",
      "+--------------------+----------------+--------------------+\n",
      "|f9NumwFMBDn751xgF...|     Active Life|    Gun/Rifle Ranges|\n",
      "|Yzvjg0SayhoZgCljU...|Health & Medical|Fitness & Instruc...|\n",
      "|XNoUzKckATkOD1hP6...|            Pets|        Pet Services|\n",
      "|6OAZjbxqM5ol29BuH...| Hardware Stores|       Home Services|\n",
      "|51M2Kk903DFYI6gnB...|   Home Services|            Plumbing|\n",
      "+--------------------+----------------+--------------------+\n",
      "only showing top 5 rows\n",
      "\n"
     ]
    }
   ],
   "source": [
    "bus_cat = df_load.select(col(\"_c0\").alias(\"business_id\"), col(\"_c1\").alias(\"cat_primary\"), col(\"_c2\").alias(\"cat_secondary\"))\n",
    "bus_cat.show(5)"
   ]
  },
  {
   "cell_type": "code",
   "execution_count": 76,
   "metadata": {},
   "outputs": [
    {
     "name": "stdout",
     "output_type": "stream",
     "text": [
      "root\n",
      " |-- address: string (nullable = true)\n",
      " |-- attributes: struct (nullable = true)\n",
      " |    |-- AcceptsInsurance: string (nullable = true)\n",
      " |    |-- AgesAllowed: string (nullable = true)\n",
      " |    |-- Alcohol: string (nullable = true)\n",
      " |    |-- Ambience: string (nullable = true)\n",
      " |    |-- BYOB: string (nullable = true)\n",
      " |    |-- BYOBCorkage: string (nullable = true)\n",
      " |    |-- BestNights: string (nullable = true)\n",
      " |    |-- BikeParking: string (nullable = true)\n",
      " |    |-- BusinessAcceptsBitcoin: string (nullable = true)\n",
      " |    |-- BusinessAcceptsCreditCards: string (nullable = true)\n",
      " |    |-- BusinessParking: string (nullable = true)\n",
      " |    |-- ByAppointmentOnly: string (nullable = true)\n",
      " |    |-- Caters: string (nullable = true)\n",
      " |    |-- CoatCheck: string (nullable = true)\n",
      " |    |-- Corkage: string (nullable = true)\n",
      " |    |-- DietaryRestrictions: string (nullable = true)\n",
      " |    |-- DogsAllowed: string (nullable = true)\n",
      " |    |-- DriveThru: string (nullable = true)\n",
      " |    |-- GoodForDancing: string (nullable = true)\n",
      " |    |-- GoodForKids: string (nullable = true)\n",
      " |    |-- GoodForMeal: string (nullable = true)\n",
      " |    |-- HairSpecializesIn: string (nullable = true)\n",
      " |    |-- HappyHour: string (nullable = true)\n",
      " |    |-- HasTV: string (nullable = true)\n",
      " |    |-- Music: string (nullable = true)\n",
      " |    |-- NoiseLevel: string (nullable = true)\n",
      " |    |-- Open24Hours: string (nullable = true)\n",
      " |    |-- OutdoorSeating: string (nullable = true)\n",
      " |    |-- RestaurantsAttire: string (nullable = true)\n",
      " |    |-- RestaurantsCounterService: string (nullable = true)\n",
      " |    |-- RestaurantsDelivery: string (nullable = true)\n",
      " |    |-- RestaurantsGoodForGroups: string (nullable = true)\n",
      " |    |-- RestaurantsPriceRange2: string (nullable = true)\n",
      " |    |-- RestaurantsReservations: string (nullable = true)\n",
      " |    |-- RestaurantsTableService: string (nullable = true)\n",
      " |    |-- RestaurantsTakeOut: string (nullable = true)\n",
      " |    |-- Smoking: string (nullable = true)\n",
      " |    |-- WheelchairAccessible: string (nullable = true)\n",
      " |    |-- WiFi: string (nullable = true)\n",
      " |-- business_id: string (nullable = true)\n",
      " |-- categories: string (nullable = true)\n",
      " |-- city: string (nullable = true)\n",
      " |-- hours: struct (nullable = true)\n",
      " |    |-- Friday: string (nullable = true)\n",
      " |    |-- Monday: string (nullable = true)\n",
      " |    |-- Saturday: string (nullable = true)\n",
      " |    |-- Sunday: string (nullable = true)\n",
      " |    |-- Thursday: string (nullable = true)\n",
      " |    |-- Tuesday: string (nullable = true)\n",
      " |    |-- Wednesday: string (nullable = true)\n",
      " |-- is_open: long (nullable = true)\n",
      " |-- latitude: double (nullable = true)\n",
      " |-- longitude: double (nullable = true)\n",
      " |-- name: string (nullable = true)\n",
      " |-- postal_code: string (nullable = true)\n",
      " |-- review_count: long (nullable = true)\n",
      " |-- stars: double (nullable = true)\n",
      " |-- state: string (nullable = true)\n",
      "\n"
     ]
    }
   ],
   "source": [
    "bus = spark.read.json(\"/user/vvenkatesan/final_project/business_json/yelp_academic_dataset_business.json\")\n",
    "bus.printSchema()"
   ]
  },
  {
   "cell_type": "code",
   "execution_count": 77,
   "metadata": {},
   "outputs": [
    {
     "name": "stdout",
     "output_type": "stream",
     "text": [
      "+--------------------+--------------------+---------------+-------+--------------------+------------+-----+----------------+\n",
      "|         business_id|             address|           city|is_open|                name|review_count|stars|     cat_primary|\n",
      "+--------------------+--------------------+---------------+-------+--------------------+------------+-----+----------------+\n",
      "|f9NumwFMBDn751xgF...|     10913 Bailey Rd|      Cornelius|      1|The Range At Lake...|          36|  3.5|     Active Life|\n",
      "|Yzvjg0SayhoZgCljU...|8880 E Via Linda,...|     Scottsdale|      1|   Carlos Santo, NMD|           4|  5.0|Health & Medical|\n",
      "|XNoUzKckATkOD1hP6...|3554 Rue Notre-Da...|       Montreal|      1|             Felinus|           5|  5.0|            Pets|\n",
      "|6OAZjbxqM5ol29BuH...|      1015 Sharp Cir|North Las Vegas|      0|Nevada House of Hose|           3|  2.5| Hardware Stores|\n",
      "|51M2Kk903DFYI6gnB...|  4827 E Downing Cir|           Mesa|      1|USE MY GUY SERVIC...|          26|  4.5|   Home Services|\n",
      "+--------------------+--------------------+---------------+-------+--------------------+------------+-----+----------------+\n",
      "only showing top 5 rows\n",
      "\n"
     ]
    }
   ],
   "source": [
    "bus = bus.drop(\"count\", \"state\", \"postal_code\", \"latitude\", \"longitude\", \"attributes\", \"categories\", \"hours\")\n",
    "bus = bus.filter(bus.business_id != 'business_id')\n",
    "\n",
    "bus = bus.join(bus_cat, on = ['business_id'], how = 'left')\n",
    "bus = bus.drop('cat_secondary')\n",
    "bus.show(5)"
   ]
  },
  {
   "cell_type": "code",
   "execution_count": 29,
   "metadata": {},
   "outputs": [
    {
     "name": "stdout",
     "output_type": "stream",
     "text": [
      "root\n",
      " |-- review_id: string (nullable = true)\n",
      " |-- user_id: string (nullable = true)\n",
      " |-- business_id: string (nullable = true)\n",
      " |-- stars: double (nullable = true)\n",
      " |-- date: string (nullable = true)\n",
      " |-- text: string (nullable = true)\n",
      " |-- useful: integer (nullable = true)\n",
      " |-- funny: integer (nullable = true)\n",
      " |-- cool: integer (nullable = true)\n",
      "\n"
     ]
    }
   ],
   "source": [
    "review = spark.sql('SELECT * FROM big_data_group_2.review')\n",
    "review.printSchema()"
   ]
  },
  {
   "cell_type": "code",
   "execution_count": 30,
   "metadata": {},
   "outputs": [
    {
     "name": "stdout",
     "output_type": "stream",
     "text": [
      "+--------------------+--------------------+--------------------+-----+--------------------+\n",
      "|           review_id|             user_id|         business_id|stars|                text|\n",
      "+--------------------+--------------------+--------------------+-----+--------------------+\n",
      "|xQY8N_XvtGbearJ5X...|OwjRMXRC0KyPrIlcj...|-MhfebM0QIsKt87iD...|  2.0|As someone who ha...|\n",
      "|UmFMZ8PyXZTY2Qcwz...|nIJD_7ZXHq-FX8byP...|lbrU8StCq3yDfr-QM...|  1.0|I am actually hor...|\n",
      "|LG2ZaYiOgpr2DK_90...|V34qejxNsCbcgD8C0...|HQl28KMwrEKHqhFrr...|  5.0|I love Deagan's. ...|\n",
      "|i6g_oA9Yf9Y31qt0w...|ofKDkJKXSKZXu5xJN...|5JxlZaqCnk1MnbgRi...|  1.0|Dismal, lukewarm,...|\n",
      "|6TdNDKywdbjoTkize...|UgMW8bLE0QMJDCkQ1...|IS4cv902ykd8wj1TR...|  4.0|Oh happy day, fin...|\n",
      "+--------------------+--------------------+--------------------+-----+--------------------+\n",
      "only showing top 5 rows\n",
      "\n"
     ]
    }
   ],
   "source": [
    "review = review.drop('date', 'useful', 'funny', 'cool')\n",
    "review.show(5)"
   ]
  },
  {
   "cell_type": "code",
   "execution_count": 71,
   "metadata": {},
   "outputs": [
    {
     "data": {
      "text/plain": [
       "80211220"
      ]
     },
     "execution_count": 71,
     "metadata": {},
     "output_type": "execute_result"
    }
   ],
   "source": [
    "review.count()"
   ]
  },
  {
   "cell_type": "markdown",
   "metadata": {},
   "source": [
    "#### Build a subset of the data!"
   ]
  },
  {
   "cell_type": "code",
   "execution_count": 32,
   "metadata": {},
   "outputs": [
    {
     "data": {
      "text/plain": [
       "100000"
      ]
     },
     "execution_count": 32,
     "metadata": {},
     "output_type": "execute_result"
    }
   ],
   "source": [
    "review_sub = review.rdd.takeSample(False, 100000, seed = 27)\n",
    "review_sub = spark.createDataFrame(review_sub)\n",
    "review_sub.count()"
   ]
  },
  {
   "cell_type": "code",
   "execution_count": 33,
   "metadata": {
    "scrolled": true
   },
   "outputs": [
    {
     "name": "stdout",
     "output_type": "stream",
     "text": [
      "+--------------------+--------------------+--------------------+-----+--------------------+\n",
      "|           review_id|             user_id|         business_id|stars|                text|\n",
      "+--------------------+--------------------+--------------------+-----+--------------------+\n",
      "|HS0F54bYyeX1tW6Sw...|SwXA_s37pFvgqGDfn...|pybIuTluqRhH_BQ3C...|  5.0|my sister was maj...|\n",
      "|rXs-HVqRQdkpnFJA2...|wfumINHN_Vi3Ntf2M...|KskYqH1Bi7Z_61pH6...|  5.0|I lived in Thaila...|\n",
      "|6eCfo4OjwWqMoFHG1...|8qnHcAlkimpch0RTT...|szL4LjaGZpmsLjQ5A...|  1.0|This place is a j...|\n",
      "|RJbGFZG-WiqOhQr1x...|W_iZ-l3zOg4Gg4Nr4...|BIuXMWuQIlC1ZlC3l...|  5.0|I absolutely love...|\n",
      "|__MtCRuidIjS83Uib...|ZOB5CrdUEOM0qKGLM...|vHz2RLtfUMVRPFmd7...|  5.0|This is a must tr...|\n",
      "+--------------------+--------------------+--------------------+-----+--------------------+\n",
      "only showing top 5 rows\n",
      "\n"
     ]
    }
   ],
   "source": [
    "review_sub.show(5)"
   ]
  },
  {
   "cell_type": "code",
   "execution_count": 34,
   "metadata": {},
   "outputs": [
    {
     "name": "stdout",
     "output_type": "stream",
     "text": [
      "+--------------------+--------------------+\n",
      "|         business_id|                text|\n",
      "+--------------------+--------------------+\n",
      "|pybIuTluqRhH_BQ3C...|my sister was maj...|\n",
      "|KskYqH1Bi7Z_61pH6...|I lived in Thaila...|\n",
      "|szL4LjaGZpmsLjQ5A...|This place is a j...|\n",
      "|BIuXMWuQIlC1ZlC3l...|I absolutely love...|\n",
      "|vHz2RLtfUMVRPFmd7...|This is a must tr...|\n",
      "+--------------------+--------------------+\n",
      "only showing top 5 rows\n",
      "\n"
     ]
    }
   ],
   "source": [
    "# select just the business id and the text of the review\n",
    "\n",
    "subset_text_only = review_sub.select(col(\"business_id\"), col(\"text\"))\n",
    "subset_text_only.show(5)"
   ]
  },
  {
   "cell_type": "code",
   "execution_count": 35,
   "metadata": {},
   "outputs": [
    {
     "data": {
      "text/plain": [
       "47267"
      ]
     },
     "execution_count": 35,
     "metadata": {},
     "output_type": "execute_result"
    }
   ],
   "source": [
    "# concatenate the review text -- we want to look at all reviews for each business!\n",
    "\n",
    "# concatentate based on business ID as key. must be in tuple form\n",
    "subset_conc = subset_text_only.rdd.map(tuple).reduceByKey(op.add)\n",
    "\n",
    "# create a dataframe of the results to use for tokenization / featurization!\n",
    "subset_conc_df = spark.createDataFrame(subset_conc).withColumnRenamed('_1', 'business_id').withColumnRenamed('_2', 'text_from_reviews')\n",
    "subset_conc_df.count()"
   ]
  },
  {
   "cell_type": "markdown",
   "metadata": {},
   "source": [
    "### 2) Tokenization / Featurization"
   ]
  },
  {
   "cell_type": "code",
   "execution_count": 36,
   "metadata": {},
   "outputs": [],
   "source": [
    "# build a pipeline\n",
    "\n",
    "# make each word a token\n",
    "tokenizer = RegexTokenizer(gaps = False, pattern = '\\w+', inputCol = 'text_from_reviews', outputCol = 'tokenized_text')\n",
    "\n",
    "# remove stopwords like the, etc\n",
    "stopwords_remove = StopWordsRemover(inputCol = 'tokenized_text', outputCol = 'tokenized_nostopwords')\n",
    "\n",
    "# vectorize words\n",
    "word_2_vec = Word2Vec(vectorSize = 100, minCount = 5, inputCol = \"tokenized_nostopwords\", outputCol = \"wordVectors\")\n",
    "\n",
    "pipeline = Pipeline(stages = [tokenizer, stopwords_remove, word_2_vec])"
   ]
  },
  {
   "cell_type": "code",
   "execution_count": 37,
   "metadata": {},
   "outputs": [],
   "source": [
    "# fit model pipeline\n",
    "model = pipeline.fit(subset_conc_df)\n",
    "\n",
    "# transform after fitting\n",
    "review_subset_tansformed = model.transform(subset_conc_df)\n",
    "review_subset_tansformed.show(2)"
   ]
  },
  {
   "cell_type": "code",
   "execution_count": 38,
   "metadata": {},
   "outputs": [
    {
     "data": {
      "text/plain": [
       "[('OWll9a5nBADV25pAFh7wPw',\n",
       "  DenseVector([-0.0376, -0.0021, -0.0663, -0.0572, 0.0286, 0.0101, 0.0144, 0.0237, -0.0879, 0.0459, 0.0436, -0.0711, -0.0245, -0.0038, -0.0499, 0.0472, 0.0268, 0.0028, 0.0417, 0.068, 0.0296, 0.0119, 0.0292, 0.0818, 0.0126, 0.0178, -0.0111, 0.0489, 0.0255, -0.0029, 0.0242, 0.0026, -0.0416, 0.0617, 0.067, 0.0165, -0.0819, -0.0118, 0.0158, 0.0221, 0.1095, 0.0423, -0.0008, -0.0615, 0.0191, 0.0444, -0.0042, 0.0077, 0.0473, -0.0415, 0.0174, 0.0515, -0.0271, -0.0687, 0.0181, 0.042, -0.0526, 0.015, -0.0812, 0.0405, -0.0373, -0.0153, -0.0311, 0.0286, -0.0525, 0.0523, 0.0244, -0.0265, -0.015, -0.0342, -0.0965, 0.0098, -0.0467, -0.0928, 0.019, -0.0297, 0.0316, 0.0811, 0.0494, 0.0363, -0.045, 0.0047, -0.0296, 0.0486, -0.0524, -0.0536, -0.0045, -0.0355, -0.0259, 0.0304, 0.0482, -0.0319, 0.0692, 0.0988, -0.0634, -0.0565, 0.0119, 0.0126, 0.0935, -0.0137])),\n",
       " ('q18xbq3Cbyp_BJyfMQxFxg',\n",
       "  DenseVector([-0.0419, 0.0043, -0.0428, -0.1367, 0.0292, -0.0057, 0.0451, 0.0614, -0.044, -0.028, 0.0443, -0.0437, -0.0074, 0.0053, -0.0405, 0.04, 0.0304, 0.0115, -0.0185, 0.0961, 0.0596, 0.0211, 0.0437, -0.0344, 0.0419, 0.0119, 0.0439, -0.0068, -0.0385, -0.0191, 0.005, 0.0594, 0.0112, -0.0108, 0.0414, 0.0535, -0.0175, -0.018, 0.0138, 0.0079, 0.1199, 0.02, -0.0116, -0.0232, 0.0211, 0.0455, 0.0318, 0.0209, 0.0371, -0.0285, -0.0039, 0.038, -0.0026, 0.0021, -0.0087, 0.0227, -0.0581, 0.0044, -0.0327, 0.0146, -0.0172, -0.0051, -0.0393, 0.0345, 0.0064, 0.0781, 0.0134, -0.0367, -0.0225, 0.0103, -0.019, 0.0614, 0.0032, -0.0093, 0.0414, -0.0111, -0.0156, 0.0895, 0.1053, -0.0719, -0.0451, 0.0386, -0.0414, 0.043, -0.0537, -0.0668, 0.0013, 0.0282, -0.0359, -0.0253, 0.0477, -0.0313, 0.0294, 0.0557, -0.0219, -0.0233, -0.0013, -0.0564, 0.0725, -0.0395])),\n",
       " ('lwxYmWqjmEZ0ukCsXC9Pfg',\n",
       "  DenseVector([-0.0512, 0.0125, -0.0456, -0.0775, 0.046, 0.0124, 0.0579, 0.0455, -0.055, -0.0436, 0.032, -0.0197, -0.0105, 0.0274, -0.0985, 0.0135, 0.0032, -0.0008, -0.0032, 0.0165, 0.0062, 0.0606, 0.0471, 0.0722, 0.0031, -0.0057, -0.0571, -0.0109, -0.0394, 0.0651, -0.0235, -0.0055, -0.0122, 0.0429, 0.0316, 0.0052, -0.0415, 0.0074, 0.0203, -0.0448, 0.0355, 0.1106, 0.0014, -0.0006, 0.0093, 0.05, -0.0268, -0.0084, 0.0032, -0.0399, -0.0592, 0.008, -0.0586, 0.0048, 0.0062, 0.0461, -0.0139, 0.0244, 0.0151, 0.0052, -0.0416, 0.0057, -0.0241, 0.02, -0.0134, 0.0425, -0.032, -0.0535, 0.0221, -0.0156, -0.0486, 0.023, 0.061, 0.0255, 0.0111, 0.0224, -0.0041, 0.0237, 0.0837, 0.0105, -0.0282, -0.0368, 0.0089, 0.0503, 0.0052, -0.0565, -0.009, 0.0165, 0.005, 0.0059, 0.0219, -0.0209, 0.03, 0.1095, -0.0114, -0.0433, -0.0196, 0.0142, 0.0258, -0.0094])),\n",
       " ('uGIsWa5apwtAuRLxmui5Og',\n",
       "  DenseVector([-0.0245, 0.0535, -0.0396, -0.0749, 0.0394, -0.0322, 0.0657, 0.0434, -0.0316, -0.0303, 0.0114, -0.0349, 0.0008, -0.0125, -0.0094, 0.0114, 0.0278, 0.0394, -0.0142, 0.0601, 0.0329, 0.0302, 0.034, 0.1116, 0.0117, 0.0341, 0.0307, 0.0454, 0.0292, 0.0114, -0.0106, 0.0069, -0.0212, 0.0027, 0.0421, -0.0134, -0.0702, 0.0046, -0.0094, -0.0388, 0.1062, 0.0265, -0.0811, -0.0205, 0.0166, 0.0391, -0.0106, 0.0217, 0.0947, -0.0081, -0.0112, 0.0397, 0.0139, -0.0249, -0.0132, 0.0397, -0.0273, 0.0348, -0.0356, 0.0672, -0.0367, -0.0028, 0.0132, -0.0037, -0.0315, 0.0543, 0.0759, 0.0646, -0.005, -0.0434, -0.0306, 0.0297, -0.0313, -0.0652, 0.0245, -0.0169, 0.0774, 0.0688, 0.055, -0.0138, -0.0342, 0.0117, -0.0898, 0.0613, -0.0165, -0.0391, 0.0468, -0.0047, -0.0503, -0.0216, 0.0825, 0.015, -0.0075, 0.0819, -0.0378, -0.0377, -0.0653, -0.007, 0.1307, -0.0144])),\n",
       " ('laa0uEuOSH3s1CKmXbu_cQ',\n",
       "  DenseVector([0.0087, 0.0238, -0.0906, -0.0736, 0.0448, -0.075, 0.0492, 0.0687, -0.0022, -0.0163, 0.0316, 0.0053, -0.0018, 0.0349, -0.0639, -0.0305, 0.0636, -0.0159, -0.0094, 0.0728, 0.0367, 0.0094, 0.0344, 0.0769, 0.0475, 0.032, -0.0037, 0.0318, 0.0008, 0.0133, 0.0532, 0.0427, -0.0383, 0.0259, 0.0285, 0.0162, -0.0537, 0.0105, -0.0225, 0.0098, 0.1474, 0.0655, -0.0525, -0.0795, 0.064, -0.0211, 0.063, 0.0118, 0.0379, 0.0275, -0.0495, 0.0482, -0.0324, -0.0367, -0.033, 0.0136, -0.0318, 0.0185, -0.0078, 0.0376, -0.002, 0.031, -0.0178, 0.0646, -0.0397, 0.0923, 0.1127, 0.0271, -0.0436, -0.0615, -0.0877, 0.0479, -0.004, -0.0478, 0.0181, -0.0106, 0.104, 0.0648, 0.0351, -0.0448, -0.0162, 0.0376, -0.0435, 0.0295, 0.0171, -0.0286, 0.0217, 0.0214, 0.0072, -0.0403, 0.0853, -0.0238, 0.0046, 0.0637, -0.0516, -0.0158, -0.0449, -0.0246, 0.0745, -0.026]))]"
      ]
     },
     "execution_count": 38,
     "metadata": {},
     "output_type": "execute_result"
    }
   ],
   "source": [
    "# visualize the calculated vectors. we don't care about intermediate columns anymore and we need to see at least one business\n",
    "# id for the test case\n",
    "\n",
    "reviews_vectors = review_subset_tansformed.select('business_id', 'wordVectors')\n",
    "reviews_vectors = reviews_vectors.rdd.map(lambda x: (x[0], x[1])).collect()\n",
    "reviews_vectors[0:5]"
   ]
  },
  {
   "cell_type": "markdown",
   "metadata": {},
   "source": [
    "### 3) Define Recommendation Functions"
   ]
  },
  {
   "cell_type": "markdown",
   "metadata": {},
   "source": [
    "We need to be able to identify similar business and reviews. What types of content based recommendation engines can we build?\n",
    "\n",
    "1. similar business\n",
    "2. recommend based on what user reviewed perviously\n",
    "3. recommendation based on a key word search"
   ]
  },
  {
   "cell_type": "code",
   "execution_count": 78,
   "metadata": {},
   "outputs": [],
   "source": [
    "# define cosine similarity. Cosine similarity is a measurement used to gauge how comparative the records \n",
    "# are independent of their size. Computes cosine of the edge between two vectors anticipated in a multi-dimensional space.\n",
    "\n",
    "def CosineSimilarity(a, b):\n",
    "    return np.dot(a, b) / (np.linalg.norm(a) * np.linalg.norm(b))"
   ]
  },
  {
   "cell_type": "code",
   "execution_count": 79,
   "metadata": {},
   "outputs": [],
   "source": [
    "# define function to compute the cosine similarity of the businesses in our data\n",
    "\n",
    "def BusinessScore(bus_name):\n",
    "    \n",
    "    business_id = (bus.select(\"business_id\").filter(col(\"name\") == lit(bus_name))).head()[0]\n",
    "    \n",
    "    print('-----Compiling Word Vectors-----')\n",
    "    \n",
    "    bus_vector = (review_subset_tansformed.select('wordVectors')\n",
    "                  .filter(review_subset_tansformed['business_id'] == business_id).collect()[0][0])\n",
    "    \n",
    "    print('-----Computing Cosine Similarity-----')\n",
    "    \n",
    "    bus_vector_rdd = sc.parallelize((i[0], float(CosineSimilarity(bus_vector, i[1]))) for i in reviews_vectors)\n",
    "    \n",
    "    # build a dataframe with business ID and cosine similarity as 'score'\n",
    "    bus_score = spark.createDataFrame(bus_vector_rdd)\n",
    "    bus_score = (bus_score.withColumnRenamed('_1', 'business_id').withColumnRenamed('_2', 'score')\n",
    "                               .orderBy(['score'], ascending=[0]))\n",
    "    \n",
    "    # we don't want the business id that we're searching to be in the results or NAs either\n",
    "    bus_score = bus_score.filter(col(\"business_id\") != business_id).filter(col(\"score\") != 'NaN')\n",
    "    \n",
    "    print('-----Similar Businesses Found-----')\n",
    "                \n",
    "    return bus_score"
   ]
  },
  {
   "cell_type": "code",
   "execution_count": 80,
   "metadata": {},
   "outputs": [],
   "source": [
    "def BusinessInformation(bus_score):\n",
    "    \n",
    "    print('-----Collecting Business Information-----')\n",
    "    \n",
    "    selected_ids = bus_score.select('business_id').rdd.flatMap(lambda x: x).collect()\n",
    "    \n",
    "    business_subset = bus.where(bus.business_id.isin(selected_ids))\n",
    "    business_subset = business_subset.join(bus_score, on = ['business_id'], how = 'left')\n",
    "    \n",
    "    print('-----Removing Closed Businesses-----')\n",
    "    \n",
    "    business_subset = business_subset.filter('is_open == 1')\n",
    "    business_subset = business_subset.drop('is_open')\n",
    "    \n",
    "    print('-----Removing Businesses With Worse Than 3.5 Rating-----')\n",
    "    \n",
    "    business_subset = business_subset.filter('stars > 3.0')\n",
    "    \n",
    "    print('-----Filtering Based On Category and Location-----')\n",
    "    \n",
    "    category = (bus.select(\"cat_primary\").filter(col(\"name\") == lit(bus_name))).head()[0]\n",
    "    city = (bus.select(\"city\").filter(col(\"name\") == lit(bus_name))).head()[0]\n",
    "    \n",
    "    print('-----Compiling Final Recommendations-----')\n",
    "    \n",
    "    trial = (business_subset.select('name', 'address','city','cat_primary','score').filter(business_subset.city == city)\n",
    "             .filter(business_subset.cat_primary == category).sort(\"score\").orderBy([\"score\"], ascending=[0])).limit(5)\n",
    "    \n",
    "    return trial.toPandas()\n",
    "    "
   ]
  },
  {
   "cell_type": "code",
   "execution_count": 81,
   "metadata": {},
   "outputs": [],
   "source": [
    "def InputBusinessInformation(bus_name):\n",
    "    \n",
    "    print('-----Pulling Initial Business Information-----')\n",
    "    \n",
    "    bus_info = (bus.select('name', 'address','city','cat_primary').filter(bus.name == bus_name))\n",
    "    bus_info = bus_info.toPandas()\n",
    "       \n",
    "    return bus_info"
   ]
  },
  {
   "cell_type": "markdown",
   "metadata": {},
   "source": [
    "### 4) Test Case!"
   ]
  },
  {
   "cell_type": "code",
   "execution_count": 84,
   "metadata": {},
   "outputs": [
    {
     "name": "stdout",
     "output_type": "stream",
     "text": [
      "-----Compiling Word Vectors-----\n",
      "-----Computing Cosine Similarity-----\n"
     ]
    },
    {
     "name": "stderr",
     "output_type": "stream",
     "text": [
      "/software/Anaconda3-5.1.0-hadoop/lib/python3.6/site-packages/ipykernel/__main__.py:5: RuntimeWarning: invalid value encountered in double_scalars\n"
     ]
    },
    {
     "name": "stdout",
     "output_type": "stream",
     "text": [
      "-----Similar Businesses Found-----\n",
      "-----Collecting Business Information-----\n",
      "-----Removing Closed Businesses-----\n",
      "-----Removing Businesses With Worse Than 3.5 Rating-----\n",
      "-----Filtering Based On Category and Location-----\n",
      "-----Compiling Final Recommendations-----\n",
      "-----Pulling Initial Business Information-----\n"
     ]
    },
    {
     "data": {
      "text/html": [
       "<div>\n",
       "<style scoped>\n",
       "    .dataframe tbody tr th:only-of-type {\n",
       "        vertical-align: middle;\n",
       "    }\n",
       "\n",
       "    .dataframe tbody tr th {\n",
       "        vertical-align: top;\n",
       "    }\n",
       "\n",
       "    .dataframe thead th {\n",
       "        text-align: right;\n",
       "    }\n",
       "</style>\n",
       "<table border=\"1\" class=\"dataframe\">\n",
       "  <thead>\n",
       "    <tr style=\"text-align: right;\">\n",
       "      <th></th>\n",
       "      <th>name</th>\n",
       "      <th>address</th>\n",
       "      <th>city</th>\n",
       "      <th>cat_primary</th>\n",
       "    </tr>\n",
       "  </thead>\n",
       "  <tbody>\n",
       "    <tr>\n",
       "      <th>0</th>\n",
       "      <td>Anaya's Fresh Mexican Restaurant</td>\n",
       "      <td>5830 W Thunderbird Rd</td>\n",
       "      <td>Glendale</td>\n",
       "      <td>Restaurants</td>\n",
       "    </tr>\n",
       "  </tbody>\n",
       "</table>\n",
       "</div>"
      ],
      "text/plain": [
       "                               name                address      city  \\\n",
       "0  Anaya's Fresh Mexican Restaurant  5830 W Thunderbird Rd  Glendale   \n",
       "\n",
       "   cat_primary  \n",
       "0  Restaurants  "
      ]
     },
     "metadata": {},
     "output_type": "display_data"
    },
    {
     "data": {
      "text/html": [
       "<div>\n",
       "<style scoped>\n",
       "    .dataframe tbody tr th:only-of-type {\n",
       "        vertical-align: middle;\n",
       "    }\n",
       "\n",
       "    .dataframe tbody tr th {\n",
       "        vertical-align: top;\n",
       "    }\n",
       "\n",
       "    .dataframe thead th {\n",
       "        text-align: right;\n",
       "    }\n",
       "</style>\n",
       "<table border=\"1\" class=\"dataframe\">\n",
       "  <thead>\n",
       "    <tr style=\"text-align: right;\">\n",
       "      <th></th>\n",
       "      <th>name</th>\n",
       "      <th>address</th>\n",
       "      <th>city</th>\n",
       "      <th>cat_primary</th>\n",
       "      <th>score</th>\n",
       "    </tr>\n",
       "  </thead>\n",
       "  <tbody>\n",
       "    <tr>\n",
       "      <th>0</th>\n",
       "      <td>First Watch</td>\n",
       "      <td>3780 W Happy Valley Rd, Ste. 110</td>\n",
       "      <td>Glendale</td>\n",
       "      <td>Restaurants</td>\n",
       "      <td>0.794320</td>\n",
       "    </tr>\n",
       "    <tr>\n",
       "      <th>1</th>\n",
       "      <td>Bottega Pizzeria Ristorante</td>\n",
       "      <td>19420 N 59th Ave, Ste C117</td>\n",
       "      <td>Glendale</td>\n",
       "      <td>Restaurants</td>\n",
       "      <td>0.793693</td>\n",
       "    </tr>\n",
       "    <tr>\n",
       "      <th>2</th>\n",
       "      <td>Popo's Fiesta Del Sol Mexican Food</td>\n",
       "      <td>17037 N 59th Ave</td>\n",
       "      <td>Glendale</td>\n",
       "      <td>Restaurants</td>\n",
       "      <td>0.790964</td>\n",
       "    </tr>\n",
       "    <tr>\n",
       "      <th>3</th>\n",
       "      <td>Black Angus Steakhouse</td>\n",
       "      <td>7606 W Bell Rd</td>\n",
       "      <td>Glendale</td>\n",
       "      <td>Restaurants</td>\n",
       "      <td>0.768902</td>\n",
       "    </tr>\n",
       "    <tr>\n",
       "      <th>4</th>\n",
       "      <td>Ohya Sushi, Korean Kitchen &amp; Bar</td>\n",
       "      <td>4920 W Thunderbird Rd, Ste 117</td>\n",
       "      <td>Glendale</td>\n",
       "      <td>Restaurants</td>\n",
       "      <td>0.741393</td>\n",
       "    </tr>\n",
       "  </tbody>\n",
       "</table>\n",
       "</div>"
      ],
      "text/plain": [
       "                                 name                           address  \\\n",
       "0                         First Watch  3780 W Happy Valley Rd, Ste. 110   \n",
       "1         Bottega Pizzeria Ristorante        19420 N 59th Ave, Ste C117   \n",
       "2  Popo's Fiesta Del Sol Mexican Food                  17037 N 59th Ave   \n",
       "3              Black Angus Steakhouse                    7606 W Bell Rd   \n",
       "4    Ohya Sushi, Korean Kitchen & Bar    4920 W Thunderbird Rd, Ste 117   \n",
       "\n",
       "       city  cat_primary     score  \n",
       "0  Glendale  Restaurants  0.794320  \n",
       "1  Glendale  Restaurants  0.793693  \n",
       "2  Glendale  Restaurants  0.790964  \n",
       "3  Glendale  Restaurants  0.768902  \n",
       "4  Glendale  Restaurants  0.741393  "
      ]
     },
     "metadata": {},
     "output_type": "display_data"
    }
   ],
   "source": [
    "bus_name = \"Anaya's Fresh Mexican Restaurant\"\n",
    "\n",
    "test = BusinessInformation(BusinessScore(bus_name))\n",
    "input_info = InputBusinessInformation(bus_name)\n",
    "\n",
    "display(input_info, test)"
   ]
  }
 ],
 "metadata": {
  "kernelspec": {
   "display_name": "pySpark",
   "language": "python",
   "name": "pyspark"
  },
  "language_info": {
   "codemirror_mode": {
    "name": "ipython",
    "version": 3
   },
   "file_extension": ".py",
   "mimetype": "text/x-python",
   "name": "python",
   "nbconvert_exporter": "python",
   "pygments_lexer": "ipython3",
   "version": "3.6.8"
  }
 },
 "nbformat": 4,
 "nbformat_minor": 2
}
