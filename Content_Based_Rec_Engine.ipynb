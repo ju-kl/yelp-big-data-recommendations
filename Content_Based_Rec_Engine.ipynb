{
 "cells": [
  {
   "cell_type": "code",
   "execution_count": 1,
   "metadata": {},
   "outputs": [],
   "source": [
    "#import statements\n",
    "import numpy as np\n",
    "import pandas as pd\n",
    "import operator as op\n",
    "\n",
    "from pyspark.sql import HiveContext, SparkSession\n",
    "hive_context = HiveContext(sc)\n",
    "\n",
    "\n",
    "from pyspark.sql.functions import col, lit\n",
    "from pyspark.sql.types import *\n",
    "from pyspark.ml.linalg import *\n",
    "from pyspark.ml.feature import RegexTokenizer, StopWordsRemover, HashingTF, Tokenizer, StringIndexer, CountVectorizer, IDF, Word2Vec\n",
    "from pyspark.ml import Pipeline"
   ]
  },
  {
   "cell_type": "code",
   "execution_count": 2,
   "metadata": {},
   "outputs": [],
   "source": [
    "spark = SparkSession.builder.enableHiveSupport().appName('ReadWriteData').getOrCreate()\n",
    "sc = spark.sparkContext"
   ]
  },
  {
   "cell_type": "code",
   "execution_count": 3,
   "metadata": {},
   "outputs": [
    {
     "name": "stdout",
     "output_type": "stream",
     "text": [
      "WARNING: log4j.properties is not found. HADOOP_CONF_DIR may be incomplete.\n",
      "Java HotSpot(TM) 64-Bit Server VM warning: ignoring option MaxPermSize=512M; support was removed in 8.0\n",
      "Found 9 items\n",
      "drwxr-xr-x   - vvenkatesan vvenkatesan          0 2020-08-06 12:47 /user/vvenkatesan/final_project/bus_cat\n",
      "drwxr-xr-x   - kleindiek   vvenkatesan          0 2020-08-02 12:03 /user/vvenkatesan/final_project/business_json\n",
      "-rw-r--r--   3 kleindiek   vvenkatesan  248796774 2020-08-04 14:56 /user/vvenkatesan/final_project/review_subset.json\n",
      "-rw-r--r--   3 vvenkatesan vvenkatesan  449663480 2020-07-09 18:53 /user/vvenkatesan/final_project/yelp_academic_dataset_checkin.json\n",
      "-rw-r--r--   3 vvenkatesan vvenkatesan 6325565224 2020-07-09 18:54 /user/vvenkatesan/final_project/yelp_academic_dataset_review.json\n",
      "-rw-r--r--   3 kleindiek   vvenkatesan  175454655 2020-07-28 17:37 /user/vvenkatesan/final_project/yelp_academic_dataset_tip.csv\n",
      "-rw-r--r--   3 vvenkatesan vvenkatesan  263489322 2020-07-09 18:55 /user/vvenkatesan/final_project/yelp_academic_dataset_tip.json\n",
      "-rw-r--r--   3 tianjsha    vvenkatesan 3268069927 2020-08-13 16:56 /user/vvenkatesan/final_project/yelp_academic_dataset_user.json\n",
      "-rw-r--r--   3 vvenkatesan vvenkatesan  125995072 2020-08-02 11:56 /user/vvenkatesan/final_project/yelp_business.csv\n"
     ]
    }
   ],
   "source": [
    "# connect to HDFS\n",
    "!hdfs dfs -ls /user/vvenkatesan/final_project/"
   ]
  },
  {
   "cell_type": "markdown",
   "metadata": {},
   "source": [
    "## Content-Based Recommendation Engine\n",
    "\n",
    "### 1) Loading Business and Review Data"
   ]
  },
  {
   "cell_type": "code",
   "execution_count": 4,
   "metadata": {},
   "outputs": [],
   "source": [
    "df_load = spark.read.csv('/user/vvenkatesan/final_project/bus_cat/')"
   ]
  },
  {
   "cell_type": "code",
   "execution_count": 5,
   "metadata": {},
   "outputs": [
    {
     "name": "stdout",
     "output_type": "stream",
     "text": [
      "root\n",
      " |-- _c0: string (nullable = true)\n",
      " |-- _c1: string (nullable = true)\n",
      " |-- _c2: string (nullable = true)\n",
      "\n"
     ]
    }
   ],
   "source": [
    "df_load.printSchema()"
   ]
  },
  {
   "cell_type": "code",
   "execution_count": 6,
   "metadata": {},
   "outputs": [
    {
     "name": "stdout",
     "output_type": "stream",
     "text": [
      "+--------------------+----------------+--------------------+\n",
      "|                 _c0|             _c1|                 _c2|\n",
      "+--------------------+----------------+--------------------+\n",
      "|f9NumwFMBDn751xgF...|     Active Life|    Gun/Rifle Ranges|\n",
      "|Yzvjg0SayhoZgCljU...|Health & Medical|Fitness & Instruc...|\n",
      "|XNoUzKckATkOD1hP6...|            Pets|        Pet Services|\n",
      "|6OAZjbxqM5ol29BuH...| Hardware Stores|       Home Services|\n",
      "|51M2Kk903DFYI6gnB...|   Home Services|            Plumbing|\n",
      "+--------------------+----------------+--------------------+\n",
      "only showing top 5 rows\n",
      "\n"
     ]
    }
   ],
   "source": [
    "df_load.show(5)"
   ]
  },
  {
   "cell_type": "code",
   "execution_count": 7,
   "metadata": {
    "scrolled": true
   },
   "outputs": [
    {
     "name": "stdout",
     "output_type": "stream",
     "text": [
      "+--------------------+----------------+--------------------+\n",
      "|         business_id|     cat_primary|       cat_secondary|\n",
      "+--------------------+----------------+--------------------+\n",
      "|f9NumwFMBDn751xgF...|     Active Life|    Gun/Rifle Ranges|\n",
      "|Yzvjg0SayhoZgCljU...|Health & Medical|Fitness & Instruc...|\n",
      "|XNoUzKckATkOD1hP6...|            Pets|        Pet Services|\n",
      "|6OAZjbxqM5ol29BuH...| Hardware Stores|       Home Services|\n",
      "|51M2Kk903DFYI6gnB...|   Home Services|            Plumbing|\n",
      "+--------------------+----------------+--------------------+\n",
      "only showing top 5 rows\n",
      "\n"
     ]
    }
   ],
   "source": [
    "bus_cat = df_load.select(col(\"_c0\").alias(\"business_id\"), col(\"_c1\").alias(\"cat_primary\"), col(\"_c2\").alias(\"cat_secondary\"))\n",
    "bus_cat.show(5)"
   ]
  },
  {
   "cell_type": "code",
   "execution_count": 8,
   "metadata": {},
   "outputs": [
    {
     "name": "stdout",
     "output_type": "stream",
     "text": [
      "+--------------------+--------------------+--------------------+---------------+-----+------------+-------+----------------+\n",
      "|         business_id|                name|             address|           city|stars|review_count|is_open|     cat_primary|\n",
      "+--------------------+--------------------+--------------------+---------------+-----+------------+-------+----------------+\n",
      "|f9NumwFMBDn751xgF...|The Range At Lake...|     10913 Bailey Rd|      Cornelius|  3.5|          36|      1|     Active Life|\n",
      "|Yzvjg0SayhoZgCljU...|   Carlos Santo, NMD|8880 E Via Linda,...|     Scottsdale|  5.0|           4|      1|Health & Medical|\n",
      "|XNoUzKckATkOD1hP6...|             Felinus|3554 Rue Notre-Da...|       Montreal|  5.0|           5|      1|            Pets|\n",
      "|6OAZjbxqM5ol29BuH...|Nevada House of Hose|      1015 Sharp Cir|North Las Vegas|  2.5|           3|      0| Hardware Stores|\n",
      "|51M2Kk903DFYI6gnB...|USE MY GUY SERVIC...|  4827 E Downing Cir|           Mesa|  4.5|          26|      1|   Home Services|\n",
      "+--------------------+--------------------+--------------------+---------------+-----+------------+-------+----------------+\n",
      "only showing top 5 rows\n",
      "\n"
     ]
    }
   ],
   "source": [
    "bus = spark.read.csv('/user/vvenkatesan/final_project/yelp_business.csv')\n",
    "bus = (bus.withColumnRenamed('_c0', 'count').withColumnRenamed('_c1', 'business_id')\n",
    "     .withColumnRenamed('_c2', 'name').withColumnRenamed('_c3', 'address')\n",
    "     .withColumnRenamed('_c4', 'city').withColumnRenamed('_c5', 'state')\n",
    "     .withColumnRenamed('_c6', 'postal_code').withColumnRenamed('_c7', 'latitude')\n",
    "     .withColumnRenamed('_c8', 'longitude').withColumnRenamed('_c9', 'stars')\n",
    "     .withColumnRenamed('_c10', 'review_count').withColumnRenamed('_c11', 'is_open')\n",
    "     .withColumnRenamed('_c12', 'attributes').withColumnRenamed('_c13', 'categories')\n",
    "     .withColumnRenamed('_c14', 'hours'))\n",
    "\n",
    "bus = bus.drop(\"count\", \"state\", \"postal_code\", \"latitude\", \"longitude\", \"attributes\", \"categories\", \"hours\")\n",
    "bus = bus.filter(bus.business_id != 'business_id')\n",
    "\n",
    "bus = bus.join(bus_cat, on = ['business_id'], how = 'left')\n",
    "bus = bus.drop('cat_secondary')\n",
    "bus.show(5)"
   ]
  },
  {
   "cell_type": "code",
   "execution_count": 11,
   "metadata": {},
   "outputs": [
    {
     "name": "stdout",
     "output_type": "stream",
     "text": [
      "root\n",
      " |-- review_id: string (nullable = true)\n",
      " |-- user_id: string (nullable = true)\n",
      " |-- business_id: string (nullable = true)\n",
      " |-- stars: double (nullable = true)\n",
      " |-- date: string (nullable = true)\n",
      " |-- text: string (nullable = true)\n",
      " |-- useful: integer (nullable = true)\n",
      " |-- funny: integer (nullable = true)\n",
      " |-- cool: integer (nullable = true)\n",
      "\n"
     ]
    }
   ],
   "source": [
    "review = spark.sql('SELECT * FROM big_data_group_2.review')\n",
    "review.printSchema()"
   ]
  },
  {
   "cell_type": "code",
   "execution_count": 12,
   "metadata": {},
   "outputs": [
    {
     "name": "stdout",
     "output_type": "stream",
     "text": [
      "+--------------------+--------------------+--------------------+-----+--------------------+\n",
      "|           review_id|             user_id|         business_id|stars|                text|\n",
      "+--------------------+--------------------+--------------------+-----+--------------------+\n",
      "|xQY8N_XvtGbearJ5X...|OwjRMXRC0KyPrIlcj...|-MhfebM0QIsKt87iD...|  2.0|As someone who ha...|\n",
      "|UmFMZ8PyXZTY2Qcwz...|nIJD_7ZXHq-FX8byP...|lbrU8StCq3yDfr-QM...|  1.0|I am actually hor...|\n",
      "|LG2ZaYiOgpr2DK_90...|V34qejxNsCbcgD8C0...|HQl28KMwrEKHqhFrr...|  5.0|I love Deagan's. ...|\n",
      "|i6g_oA9Yf9Y31qt0w...|ofKDkJKXSKZXu5xJN...|5JxlZaqCnk1MnbgRi...|  1.0|Dismal, lukewarm,...|\n",
      "|6TdNDKywdbjoTkize...|UgMW8bLE0QMJDCkQ1...|IS4cv902ykd8wj1TR...|  4.0|Oh happy day, fin...|\n",
      "+--------------------+--------------------+--------------------+-----+--------------------+\n",
      "only showing top 5 rows\n",
      "\n"
     ]
    }
   ],
   "source": [
    "review = review.drop('date', 'useful', 'funny', 'cool')\n",
    "review.show(5)"
   ]
  },
  {
   "cell_type": "code",
   "execution_count": 13,
   "metadata": {},
   "outputs": [
    {
     "data": {
      "text/plain": [
       "80211220"
      ]
     },
     "execution_count": 13,
     "metadata": {},
     "output_type": "execute_result"
    }
   ],
   "source": [
    "review.count()"
   ]
  },
  {
   "cell_type": "markdown",
   "metadata": {},
   "source": [
    "#### Build a subset of the data!"
   ]
  },
  {
   "cell_type": "code",
   "execution_count": 14,
   "metadata": {},
   "outputs": [
    {
     "data": {
      "text/plain": [
       "100000"
      ]
     },
     "execution_count": 14,
     "metadata": {},
     "output_type": "execute_result"
    }
   ],
   "source": [
    "review_sub = review.rdd.takeSample(False, 100000, seed = 27)\n",
    "review_sub = spark.createDataFrame(review_sub)\n",
    "review_sub.count()"
   ]
  },
  {
   "cell_type": "code",
   "execution_count": 15,
   "metadata": {
    "scrolled": true
   },
   "outputs": [
    {
     "name": "stdout",
     "output_type": "stream",
     "text": [
      "+--------------------+--------------------+--------------------+-----+--------------------+\n",
      "|           review_id|             user_id|         business_id|stars|                text|\n",
      "+--------------------+--------------------+--------------------+-----+--------------------+\n",
      "|XPQ6NgUIvxE6ycS9e...|_axN6Robwz6nl1_kK...|9lH0gzlZB_uXJ1dc9...|  4.0|Food is great as ...|\n",
      "|UWYAAnpqqTXedglye...|R6NNz2Zb2yqpRWJNK...|eI1ZHGOr2Pus842Kr...|  4.0|love this place.....|\n",
      "|aIQjht9qwansdQmBX...|YHdHtrN8PucW-HLE3...|c9SKd0bIR6nNzXOVC...|  5.0|If I could, I'd l...|\n",
      "|R-7BpQat2JhgC6pym...|o7r9Pra-DJgbptutG...|_34XDbs6WW6qYf8BP...|  1.0|There are a lot o...|\n",
      "|w62EEqn52DfJ-HnzT...|SAYDfmc9X5nTKv7M5...|BH9z7IJ4zydAqgwsb...|  5.0|This is a must se...|\n",
      "+--------------------+--------------------+--------------------+-----+--------------------+\n",
      "only showing top 5 rows\n",
      "\n"
     ]
    }
   ],
   "source": [
    "review_sub.show(5)"
   ]
  },
  {
   "cell_type": "code",
   "execution_count": 16,
   "metadata": {},
   "outputs": [
    {
     "name": "stdout",
     "output_type": "stream",
     "text": [
      "+--------------------+--------------------+\n",
      "|         business_id|                text|\n",
      "+--------------------+--------------------+\n",
      "|9lH0gzlZB_uXJ1dc9...|Food is great as ...|\n",
      "|eI1ZHGOr2Pus842Kr...|love this place.....|\n",
      "|c9SKd0bIR6nNzXOVC...|If I could, I'd l...|\n",
      "|_34XDbs6WW6qYf8BP...|There are a lot o...|\n",
      "|BH9z7IJ4zydAqgwsb...|This is a must se...|\n",
      "+--------------------+--------------------+\n",
      "only showing top 5 rows\n",
      "\n"
     ]
    }
   ],
   "source": [
    "# select just the business id and the text of the review\n",
    "\n",
    "subset_text_only = review_sub.select(col(\"business_id\"), col(\"text\"))\n",
    "subset_text_only.show(5)"
   ]
  },
  {
   "cell_type": "code",
   "execution_count": 17,
   "metadata": {},
   "outputs": [
    {
     "data": {
      "text/plain": [
       "47250"
      ]
     },
     "execution_count": 17,
     "metadata": {},
     "output_type": "execute_result"
    }
   ],
   "source": [
    "# concatenate the review text -- we want to look at all reviews for each business!\n",
    "\n",
    "# concatentate based on business ID as key. must be in tuple form\n",
    "subset_conc = subset_text_only.rdd.map(tuple).reduceByKey(op.add)\n",
    "\n",
    "# create a dataframe of the results to use for tokenization / featurization!\n",
    "subset_conc_df = spark.createDataFrame(subset_conc).withColumnRenamed('_1', 'business_id').withColumnRenamed('_2', 'text_from_reviews')\n",
    "subset_conc_df.count()"
   ]
  },
  {
   "cell_type": "markdown",
   "metadata": {},
   "source": [
    "### 2) Tokenization / Featurization"
   ]
  },
  {
   "cell_type": "code",
   "execution_count": 51,
   "metadata": {},
   "outputs": [],
   "source": [
    "# build a pipeline\n",
    "\n",
    "# make each word a token\n",
    "tokenizer = RegexTokenizer(gaps = False, pattern = '\\w+', inputCol = 'text_from_reviews', outputCol = 'tokenized_text')\n",
    "\n",
    "# remove stopwords like the, etc\n",
    "stopwords_remove = StopWordsRemover(inputCol = 'tokenized_text', outputCol = 'tokenized_nostopwords')\n",
    "\n",
    "# vectorize words\n",
    "word_2_vec = Word2Vec(vectorSize = 100, minCount = 5, inputCol = \"tokenized_nostopwords\", outputCol = \"wordVectors\")\n",
    "\n",
    "pipeline = Pipeline(stages = [tokenizer, stopwords_remove, word_2_vec])"
   ]
  },
  {
   "cell_type": "code",
   "execution_count": 52,
   "metadata": {},
   "outputs": [],
   "source": [
    "# fit model pipeline\n",
    "model = pipeline.fit(subset_conc_df)"
   ]
  },
  {
   "cell_type": "code",
   "execution_count": 53,
   "metadata": {},
   "outputs": [
    {
     "name": "stdout",
     "output_type": "stream",
     "text": [
      "+--------------------+--------------------+--------------------+---------------------+--------------------+\n",
      "|         business_id|   text_from_reviews|      tokenized_text|tokenized_nostopwords|         wordVectors|\n",
      "+--------------------+--------------------+--------------------+---------------------+--------------------+\n",
      "|b3vRI8yXNK34hgC0W...|Have been to this...|[have, been, to, ...| [place, several, ...|[-0.0786991763036...|\n",
      "|2lQVNwzNo-SbVD5lX...|rude rude and rud...|[rude, rude, and,...| [rude, rude, rude...|[-0.0675602243044...|\n",
      "+--------------------+--------------------+--------------------+---------------------+--------------------+\n",
      "only showing top 2 rows\n",
      "\n"
     ]
    }
   ],
   "source": [
    "# transform after fitting\n",
    "review_subset_tansformed = model.transform(subset_conc_df)\n",
    "\n",
    "review_subset_tansformed.show(2)"
   ]
  },
  {
   "cell_type": "code",
   "execution_count": 55,
   "metadata": {},
   "outputs": [
    {
     "data": {
      "text/plain": [
       "[('KC2YYwIPYocLEVlpLROaYQ',\n",
       "  DenseVector([0.0349, -0.0293, -0.0052, -0.033, 0.03, 0.1023, -0.0634, 0.0394, -0.075, -0.0421, 0.0969, 0.004, -0.0867, -0.0399, 0.0091, -0.1737, 0.0511, -0.0215, 0.097, -0.0674, 0.1172, 0.1065, 0.005, -0.0303, 0.0093, 0.03, 0.0736, -0.0434, -0.0497, 0.0169, -0.0548, -0.0491, -0.0352, -0.082, 0.129, -0.1255, -0.0076, 0.0051, -0.1422, -0.0204, -0.1354, 0.0008, 0.108, -0.0951, -0.0208, -0.1003, 0.0536, -0.0025, -0.0396, 0.0678, 0.0142, 0.0244, 0.0447, -0.0714, -0.0873, -0.0874, 0.0483, -0.1227, 0.0215, 0.0767, -0.0028, 0.0498, -0.111, 0.0645, 0.0995, -0.0659, 0.0112, 0.015, -0.0105, -0.0204, -0.0369, 0.0321, 0.0057, 0.06, -0.093, -0.0845, -0.0296, 0.016, -0.008, -0.0222, 0.0825, 0.15, -0.0931, -0.0201, -0.0516, -0.0216, 0.0028, 0.0386, 0.1054, 0.0385, -0.0766, 0.0494, 0.0037, -0.1234, -0.0154, 0.1425, -0.043, -0.0802, 0.0351, -0.106])),\n",
       " ('gErcz2Kqc-7E6b_JuU1VKg',\n",
       "  DenseVector([0.0072, 0.0393, 0.0584, -0.0125, -0.0798, 0.0165, -0.0033, -0.0298, 0.0172, 0.0082, -0.0066, 0.0454, 0.0626, 0.1036, 0.0551, -0.0085, 0.0068, 0.0416, 0.0132, -0.0003, 0.0179, 0.0312, 0.0711, 0.0028, 0.0171, 0.0338, 0.0503, 0.0154, 0.0545, -0.0143, -0.0041, 0.0173, -0.0402, -0.0383, 0.1029, -0.054, 0.0283, 0.0664, -0.0613, 0.0496, -0.0661, -0.017, 0.0107, -0.0255, -0.0167, -0.0122, -0.0093, 0.0267, -0.0165, 0.0658, 0.0282, 0.0026, 0.0299, -0.0225, -0.1051, 0.0475, 0.0329, 0.0282, -0.0306, -0.0574, -0.0344, 0.0489, -0.0421, -0.0218, 0.0383, 0.0037, 0.1041, -0.0111, -0.06, -0.0295, 0.0154, -0.0364, 0.0125, -0.0284, -0.0219, -0.0376, 0.0213, -0.0135, -0.0616, 0.0261, 0.0381, 0.0894, -0.1383, -0.0534, 0.0471, 0.0333, -0.0228, 0.0212, -0.003, -0.0221, -0.0685, -0.0198, -0.0108, 0.0033, 0.0336, 0.0163, 0.0094, -0.0213, -0.0287, -0.0716])),\n",
       " ('Bq8RmarLqXxsAG5MF8mGwQ',\n",
       "  DenseVector([-0.0024, 0.0906, 0.0989, 0.0205, -0.0995, 0.0901, -0.1216, 0.0852, 0.0297, 0.0769, 0.1178, 0.0424, 0.1441, 0.1511, 0.0018, -0.04, -0.0189, -0.1053, -0.0446, 0.0484, 0.0686, 0.0352, 0.0025, -0.0287, 0.0395, 0.1446, 0.2024, -0.0955, 0.0086, 0.226, -0.1264, -0.0841, 0.0062, -0.0628, 0.0847, 0.0178, -0.082, 0.1274, 0.0049, -0.0381, -0.039, 0.0143, 0.0492, -0.1547, -0.1288, -0.0505, -0.012, 0.0576, 0.0138, 0.0394, 0.051, -0.125, 0.1464, -0.0668, -0.05, 0.1658, 0.0525, 0.0319, -0.0192, -0.0248, -0.0267, 0.0079, -0.0976, -0.0369, 0.0878, 0.0193, 0.143, -0.0279, 0.0339, 0.0007, -0.1201, 0.0128, 0.0439, 0.1052, 0.0639, -0.107, 0.0427, -0.0379, 0.0059, 0.0449, 0.0049, 0.0175, -0.1471, -0.0042, -0.0097, 0.0067, -0.0937, 0.056, 0.0494, -0.017, -0.0525, -0.0715, 0.0403, 0.022, 0.0303, -0.005, 0.0162, -0.0162, -0.0441, -0.092])),\n",
       " ('4u1iOihWOVkgNTId927fHg',\n",
       "  DenseVector([0.008, 0.0526, 0.0233, -0.011, -0.0793, -0.0081, 0.0098, -0.039, 0.0456, 0.0764, -0.019, -0.0463, 0.0148, 0.0439, 0.1093, -0.0273, 0.0799, 0.093, 0.0199, -0.0663, -0.016, 0.0194, 0.0428, 0.0708, 0.0045, 0.0127, -0.0207, -0.0324, 0.0101, -0.0824, -0.1127, 0.0615, -0.0088, -0.0056, 0.0768, -0.0585, -0.0171, 0.0324, -0.0445, 0.0102, 0.047, 0.0886, -0.0283, 0.0385, -0.0132, -0.0244, 0.0167, 0.0032, -0.0082, 0.0253, 0.061, 0.0368, -0.0214, -0.0395, -0.0515, -0.0311, -0.006, 0.0674, -0.1323, 0.0167, -0.0461, 0.114, -0.0356, 0.0304, 0.0407, 0.1158, 0.0059, 0.0305, 0.012, -0.0342, 0.0655, 0.0282, 0.0348, 0.0232, -0.065, -0.0314, 0.0118, 0.105, -0.0138, -0.0643, -0.0089, 0.0551, -0.0538, 0.0171, 0.0385, -0.0415, -0.019, -0.0231, -0.014, -0.0297, 0.0561, -0.0287, -0.0077, 0.0325, 0.0051, 0.0206, -0.0044, -0.0183, -0.0292, -0.0339])),\n",
       " ('UkWme3kwg6L9rd4tCNB15w',\n",
       "  DenseVector([-0.0242, 0.0485, 0.0056, 0.0121, -0.0683, -0.0164, 0.0154, 0.0025, 0.0053, 0.0266, -0.0128, -0.014, 0.0138, 0.003, 0.1046, -0.0211, 0.0301, 0.048, -0.0063, -0.0292, -0.0125, 0.0193, -0.0041, 0.0407, 0.0186, 0.0225, -0.0293, 0.035, 0.0043, -0.07, -0.0591, 0.0681, -0.0208, -0.0291, 0.0751, -0.0279, -0.0352, 0.0734, -0.0332, 0.0097, 0.0295, 0.0217, -0.0137, 0.0292, -0.0457, -0.0241, 0.0079, 0.0047, 0.0003, 0.0111, 0.0433, 0.0472, -0.0334, -0.0175, -0.0189, -0.041, -0.0172, 0.0613, -0.0792, -0.0265, -0.0613, 0.0158, -0.0063, 0.0105, 0.0764, 0.1214, 0.0266, 0.0283, 0.0358, -0.0376, 0.0773, -0.0042, 0.0054, -0.0132, -0.0049, -0.0421, 0.0148, -0.0491, -0.0073, -0.0377, 0.0478, 0.0627, -0.0387, -0.0015, 0.0592, -0.0473, 0.0167, 0.0321, -0.0356, -0.0317, 0.0419, -0.0548, 0.0073, 0.0515, 0.0252, 0.0212, 0.0238, -0.0362, -0.0809, -0.0752]))]"
      ]
     },
     "execution_count": 55,
     "metadata": {},
     "output_type": "execute_result"
    }
   ],
   "source": [
    "# visualize the calculated vectors. we don't care about intermediate columns anymore and we need to see at least one business\n",
    "# id for the test case\n",
    "\n",
    "reviews_vectors = review_subset_tansformed.select('business_id', 'wordVectors')\n",
    "reviews_vectors = reviews_vectors.rdd.map(lambda x: (x[0], x[1])).collect()\n",
    "reviews_vectors[0:5]"
   ]
  },
  {
   "cell_type": "markdown",
   "metadata": {},
   "source": [
    "### 3) Define Recommendation Functions"
   ]
  },
  {
   "cell_type": "markdown",
   "metadata": {},
   "source": [
    "We need to be able to identify similar business and reviews. What types of content based recommendation engines can we build?\n",
    "\n",
    "1. similar business\n",
    "2. recommend based on what user reviewed perviously\n",
    "3. recommendation based on a key word search"
   ]
  },
  {
   "cell_type": "code",
   "execution_count": 56,
   "metadata": {},
   "outputs": [],
   "source": [
    "# define cosine similarity. Cosine similarity is a measurement used to gauge how comparative the records \n",
    "# are independent of their size. Computes cosine of the edge between two vectors anticipated in a multi-dimensional space.\n",
    "\n",
    "def CosineSimilarity(a, b):\n",
    "    return np.dot(a, b) / (np.linalg.norm(a) * np.linalg.norm(b))"
   ]
  },
  {
   "cell_type": "code",
   "execution_count": 61,
   "metadata": {},
   "outputs": [],
   "source": [
    "# define function to compute the cosine similarity of the businesses in our data\n",
    "\n",
    "def BusinessScore(business_id):\n",
    "    \n",
    "    print('-----Compiling Word Vectors-----')\n",
    "    \n",
    "    bus_vector = (review_subset_tansformed.select('wordVectors').filter(review_subset_tansformed['business_id'] == business_id)\n",
    "                  .collect()[0][0])\n",
    "    \n",
    "    print('-----Computing Cosine Similarity-----')\n",
    "    \n",
    "    bus_vector_rdd = sc.parallelize((i[0], float(CosineSimilarity(bus_vector, i[1]))) for i in reviews_vectors)\n",
    "    \n",
    "    # build a dataframe with business ID and cosine similarity as 'score'\n",
    "    bus_score = spark.createDataFrame(bus_vector_rdd)\n",
    "    bus_score = (bus_score.withColumnRenamed('_1', 'business_id').withColumnRenamed('_2', 'score')\n",
    "                               .orderBy(['score'], ascending=[0]))\n",
    "    \n",
    "    # we don't want the business id that we're searching to be in the results or NAs either\n",
    "    bus_score = bus_score.filter(col(\"business_id\") != business_id).filter(col(\"score\") != 'NaN')\n",
    "    \n",
    "    print('-----Similar Businesses Found-----')\n",
    "                \n",
    "    return bus_score"
   ]
  },
  {
   "cell_type": "code",
   "execution_count": 58,
   "metadata": {},
   "outputs": [],
   "source": [
    "def BusinessInformation(bus_score):\n",
    "    \n",
    "    print('-----Collecting Business Information-----')\n",
    "    \n",
    "    selected_ids = bus_score.select('business_id').rdd.flatMap(lambda x: x).collect()\n",
    "    \n",
    "    business_subset = bus.where(bus.business_id.isin(selected_ids))\n",
    "    business_subset = business_subset.join(bus_score, on = ['business_id'], how = 'left')\n",
    "    \n",
    "    print('-----Removing Closed Businesses-----')\n",
    "    \n",
    "    business_subset = business_subset.filter('is_open == 1')\n",
    "    business_subset = business_subset.drop('is_open')\n",
    "    \n",
    "    print('-----Removing Businesses With Worse Than 3.5 Rating-----')\n",
    "    \n",
    "    business_subset = business_subset.filter('stars > 3.0')\n",
    "    \n",
    "    print('-----Filtering Based On Category and Location-----')\n",
    "    \n",
    "    category = (bus.select(\"cat_primary\").filter(col(\"business_id\") == lit(bus_id))).head()[0]\n",
    "    city = (bus.select(\"city\").filter(col(\"business_id\") == lit(bus_id))).head()[0]\n",
    "    \n",
    "    print('-----Compiling Final Recommendations-----')\n",
    "    \n",
    "    trial = (business_subset.select('name', 'address','city','cat_primary','score').filter(business_subset.city == city)\n",
    "             .filter(business_subset.cat_primary == category).sort(\"score\").orderBy([\"score\"], ascending=[0])).limit(5)\n",
    "    \n",
    "    return trial.toPandas()\n",
    "    "
   ]
  },
  {
   "cell_type": "code",
   "execution_count": 59,
   "metadata": {},
   "outputs": [],
   "source": [
    "def InputBusinessInformation(business_id):\n",
    "    \n",
    "    print('-----Pulling Initial Business Information-----')\n",
    "    \n",
    "    bus_info = (bus.select('name', 'address','city','cat_primary').filter(bus.business_id == business_id))\n",
    "    bus_info = bus_info.toPandas()\n",
    "       \n",
    "    return bus_info"
   ]
  },
  {
   "cell_type": "markdown",
   "metadata": {},
   "source": [
    "### 4) Test Case!"
   ]
  },
  {
   "cell_type": "code",
   "execution_count": 62,
   "metadata": {},
   "outputs": [
    {
     "name": "stdout",
     "output_type": "stream",
     "text": [
      "-----Compiling Word Vectors-----\n",
      "-----Computing Cosine Similarity-----\n"
     ]
    },
    {
     "name": "stderr",
     "output_type": "stream",
     "text": [
      "/software/Anaconda3-5.1.0-hadoop/lib/python3.6/site-packages/ipykernel/__main__.py:5: RuntimeWarning: invalid value encountered in double_scalars\n"
     ]
    },
    {
     "name": "stdout",
     "output_type": "stream",
     "text": [
      "-----Similar Businesses Found-----\n",
      "-----Collecting Business Information-----\n",
      "-----Removing Closed Businesses-----\n",
      "-----Removing Businesses With Worse Than 3.5 Rating-----\n",
      "-----Filtering Based On Category and Location-----\n",
      "-----Compiling Final Recommendations-----\n",
      "-----Pulling Initial Business Information-----\n"
     ]
    },
    {
     "data": {
      "text/html": [
       "<div>\n",
       "<style scoped>\n",
       "    .dataframe tbody tr th:only-of-type {\n",
       "        vertical-align: middle;\n",
       "    }\n",
       "\n",
       "    .dataframe tbody tr th {\n",
       "        vertical-align: top;\n",
       "    }\n",
       "\n",
       "    .dataframe thead th {\n",
       "        text-align: right;\n",
       "    }\n",
       "</style>\n",
       "<table border=\"1\" class=\"dataframe\">\n",
       "  <thead>\n",
       "    <tr style=\"text-align: right;\">\n",
       "      <th></th>\n",
       "      <th>name</th>\n",
       "      <th>address</th>\n",
       "      <th>city</th>\n",
       "      <th>cat_primary</th>\n",
       "    </tr>\n",
       "  </thead>\n",
       "  <tbody>\n",
       "    <tr>\n",
       "      <th>0</th>\n",
       "      <td>Anaya's Fresh Mexican Restaurant</td>\n",
       "      <td>5830 W Thunderbird Rd</td>\n",
       "      <td>Glendale</td>\n",
       "      <td>Restaurants</td>\n",
       "    </tr>\n",
       "  </tbody>\n",
       "</table>\n",
       "</div>"
      ],
      "text/plain": [
       "                               name                address      city  \\\n",
       "0  Anaya's Fresh Mexican Restaurant  5830 W Thunderbird Rd  Glendale   \n",
       "\n",
       "   cat_primary  \n",
       "0  Restaurants  "
      ]
     },
     "metadata": {},
     "output_type": "display_data"
    },
    {
     "data": {
      "text/html": [
       "<div>\n",
       "<style scoped>\n",
       "    .dataframe tbody tr th:only-of-type {\n",
       "        vertical-align: middle;\n",
       "    }\n",
       "\n",
       "    .dataframe tbody tr th {\n",
       "        vertical-align: top;\n",
       "    }\n",
       "\n",
       "    .dataframe thead th {\n",
       "        text-align: right;\n",
       "    }\n",
       "</style>\n",
       "<table border=\"1\" class=\"dataframe\">\n",
       "  <thead>\n",
       "    <tr style=\"text-align: right;\">\n",
       "      <th></th>\n",
       "      <th>name</th>\n",
       "      <th>address</th>\n",
       "      <th>city</th>\n",
       "      <th>cat_primary</th>\n",
       "      <th>score</th>\n",
       "    </tr>\n",
       "  </thead>\n",
       "  <tbody>\n",
       "    <tr>\n",
       "      <th>0</th>\n",
       "      <td>Tacos Tijuana</td>\n",
       "      <td>4925 W Bell Rd, Ste D-1</td>\n",
       "      <td>Glendale</td>\n",
       "      <td>Restaurants</td>\n",
       "      <td>0.850500</td>\n",
       "    </tr>\n",
       "    <tr>\n",
       "      <th>1</th>\n",
       "      <td>Wildflower</td>\n",
       "      <td>17530 N 75th Ave</td>\n",
       "      <td>Glendale</td>\n",
       "      <td>Restaurants</td>\n",
       "      <td>0.818260</td>\n",
       "    </tr>\n",
       "    <tr>\n",
       "      <th>2</th>\n",
       "      <td>Polibertos Taco Shop</td>\n",
       "      <td>4310 W Glendale Ave</td>\n",
       "      <td>Glendale</td>\n",
       "      <td>Restaurants</td>\n",
       "      <td>0.810742</td>\n",
       "    </tr>\n",
       "    <tr>\n",
       "      <th>3</th>\n",
       "      <td>Saffron Indian Bistro</td>\n",
       "      <td>4330 W Union Hills Dr</td>\n",
       "      <td>Glendale</td>\n",
       "      <td>Restaurants</td>\n",
       "      <td>0.773366</td>\n",
       "    </tr>\n",
       "    <tr>\n",
       "      <th>4</th>\n",
       "      <td>Mi Vegana Madre Restaurant</td>\n",
       "      <td>5835 W Palmaire Ave, Ste E</td>\n",
       "      <td>Glendale</td>\n",
       "      <td>Restaurants</td>\n",
       "      <td>0.771983</td>\n",
       "    </tr>\n",
       "  </tbody>\n",
       "</table>\n",
       "</div>"
      ],
      "text/plain": [
       "                         name                     address      city  \\\n",
       "0               Tacos Tijuana     4925 W Bell Rd, Ste D-1  Glendale   \n",
       "1                  Wildflower            17530 N 75th Ave  Glendale   \n",
       "2        Polibertos Taco Shop         4310 W Glendale Ave  Glendale   \n",
       "3       Saffron Indian Bistro       4330 W Union Hills Dr  Glendale   \n",
       "4  Mi Vegana Madre Restaurant  5835 W Palmaire Ave, Ste E  Glendale   \n",
       "\n",
       "   cat_primary     score  \n",
       "0  Restaurants  0.850500  \n",
       "1  Restaurants  0.818260  \n",
       "2  Restaurants  0.810742  \n",
       "3  Restaurants  0.773366  \n",
       "4  Restaurants  0.771983  "
      ]
     },
     "metadata": {},
     "output_type": "display_data"
    }
   ],
   "source": [
    "bus_id = 'mFGUvyJSdSRjIaN94QW_IQ'\n",
    "\n",
    "test = BusinessInformation(BusinessScore(bus_id))\n",
    "input_info = InputBusinessInformation(bus_id)\n",
    "\n",
    "display(input_info, test)"
   ]
  }
 ],
 "metadata": {
  "kernelspec": {
   "display_name": "pySpark",
   "language": "python",
   "name": "pyspark"
  },
  "language_info": {
   "codemirror_mode": {
    "name": "ipython",
    "version": 3
   },
   "file_extension": ".py",
   "mimetype": "text/x-python",
   "name": "python",
   "nbconvert_exporter": "python",
   "pygments_lexer": "ipython3",
   "version": "3.6.8"
  }
 },
 "nbformat": 4,
 "nbformat_minor": 2
}
