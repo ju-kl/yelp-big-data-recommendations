{
 "cells": [
  {
   "cell_type": "code",
   "execution_count": 102,
   "metadata": {},
   "outputs": [],
   "source": [
    "#import statements\n",
    "from pyspark.sql import SparkSession\n",
    "from pyspark.sql import HiveContext\n",
    "hive_context = HiveContext(sc)"
   ]
  },
  {
   "cell_type": "code",
   "execution_count": 103,
   "metadata": {},
   "outputs": [],
   "source": [
    "import folium\n",
    "import html"
   ]
  },
  {
   "cell_type": "code",
   "execution_count": 104,
   "metadata": {},
   "outputs": [],
   "source": [
    "spark = SparkSession.builder.enableHiveSupport().appName('ReadWriteData').getOrCreate()\n",
    "sc = spark.sparkContext"
   ]
  },
  {
   "cell_type": "code",
   "execution_count": 105,
   "metadata": {},
   "outputs": [
    {
     "name": "stdout",
     "output_type": "stream",
     "text": [
      "WARNING: log4j.properties is not found. HADOOP_CONF_DIR may be incomplete.\n",
      "Java HotSpot(TM) 64-Bit Server VM warning: ignoring option MaxPermSize=512M; support was removed in 8.0\n",
      "Found 15 items\n",
      "drwxr-xr-x   - zxie8 zxie8          0 2020-08-20 16:02 /user/zxie8/big_data/CF_Model_1\n",
      "drwxr-xr-x   - zxie8 zxie8          0 2020-08-25 02:06 /user/zxie8/big_data/CF_Model_VG_1\n",
      "-rw-r--r--   3 zxie8 zxie8       4215 2020-08-19 18:49 /user/zxie8/big_data/Movie_Collect.csv\n",
      "drwxr-xr-x   - zxie8 zxie8          0 2020-08-15 03:05 /user/zxie8/big_data/airports\n",
      "drwxr-xr-x   - zxie8 zxie8          0 2020-08-20 16:03 /user/zxie8/big_data/als\n",
      "drwxr-xr-x   - zxie8 zxie8          0 2020-08-20 18:10 /user/zxie8/big_data/als_1\n",
      "drwxr-xr-x   - zxie8 zxie8          0 2020-08-25 13:23 /user/zxie8/big_data/als_VG_1\n",
      "drwxr-xr-x   - zxie8 zxie8          0 2020-08-26 02:12 /user/zxie8/big_data/als_VG_2\n",
      "drwxr-xr-x   - zxie8 zxie8          0 2020-08-26 02:32 /user/zxie8/big_data/als_VG_3\n",
      "drwxr-xr-x   - zxie8 zxie8          0 2020-08-08 05:32 /user/zxie8/big_data/instacart\n",
      "drwxr-xr-x   - zxie8 zxie8          0 2020-08-08 06:55 /user/zxie8/big_data/movies\n",
      "-rw-r--r--   3 zxie8 zxie8   77447891 2020-08-18 22:30 /user/zxie8/big_data/mpst_full_data.csv\n",
      "-rw-r--r--   3 zxie8 zxie8     192794 2020-08-16 01:42 /user/zxie8/big_data/partition.json\n",
      "drwxr-xr-x   - zxie8 zxie8          0 2020-08-20 16:54 /user/zxie8/big_data/pipe_txt\n",
      "-rw-r--r--   3 zxie8 zxie8 6325565224 2020-08-05 22:22 /user/zxie8/big_data/review.json\n"
     ]
    }
   ],
   "source": [
    "#check to see if thata is available in HDFS\n",
    "!hdfs dfs -ls /user/zxie8/big_data/"
   ]
  },
  {
   "cell_type": "markdown",
   "metadata": {},
   "source": [
    "### Reading Data"
   ]
  },
  {
   "cell_type": "code",
   "execution_count": 106,
   "metadata": {},
   "outputs": [
    {
     "name": "stdout",
     "output_type": "stream",
     "text": [
      "+--------------------+--------------------+--------------------+---------+-----+-----------+-------------+---------------+---------+------------+-------+----------+----------+-----+\n",
      "|         business_id|                name|             address|     city|state|postal_code|     latitude|      longitude|buz_stars|review_count|is_open|attributes|categories|hours|\n",
      "+--------------------+--------------------+--------------------+---------+-----+-----------+-------------+---------------+---------+------------+-------+----------+----------+-----+\n",
      "|oiAlXZPIFm2nBCt0D...|Green World Cleaners|6870 S Rainbow Bl...|Las Vegas|   NV|      89118|   36.0639767|    -115.241463|      3.5|          81|      1|         {|      null| null|\n",
      "|uZuh51lXu7tsrC8RA...|      Manolo Blahnik| 3131 Las Vegas Blvd|Las Vegas|   NV|      89109|36.1257322229|-115.1676084101|      4.5|          32|      0|         {|      null| null|\n",
      "|fnZrZlqW1Z8iWgTVD...|           Carl's Jr|9595 W Tropicana Ave|Las Vegas|   NV|      89147|   36.0997379|   -115.3015683|      2.5|          15|      0|         {|      null| null|\n",
      "|fhNf_sg-XzZ3e7HEV...|Meat Chix And Wie...| 6530 S Decatur Blvd|Las Vegas|   NV|      89118|    36.071196|    -115.207463|      3.0|          10|      0|         {|      null| null|\n",
      "|5XMKDYmMGSKkCkrYo...|Annette Thomas Ha...|101 S Rainbow Blv...|Las Vegas|   NV|      89107|   36.1725342|   -115.2447619|      5.0|           7|      1|         {|      null| null|\n",
      "+--------------------+--------------------+--------------------+---------+-----+-----------+-------------+---------------+---------+------------+-------+----------+----------+-----+\n",
      "only showing top 5 rows\n",
      "\n"
     ]
    }
   ],
   "source": [
    "buz = hive_context.sql('select * from big_data_group_2.business_julian where city == \"Las Vegas\"')\n",
    "# df=df.filter(df.id != \"id\")\n",
    "buz = buz.withColumnRenamed(\"stars\",\"buz_stars\")\n",
    "buz.show(5)"
   ]
  },
  {
   "cell_type": "code",
   "execution_count": 107,
   "metadata": {},
   "outputs": [
    {
     "data": {
      "text/plain": [
       "31631"
      ]
     },
     "execution_count": 107,
     "metadata": {},
     "output_type": "execute_result"
    }
   ],
   "source": [
    "buz.count()"
   ]
  },
  {
   "cell_type": "code",
   "execution_count": 108,
   "metadata": {},
   "outputs": [],
   "source": [
    "# Filter\n",
    "buz=buz.select('business_id', 'name','categories', 'latitude','longitude','review_count','buz_stars')"
   ]
  },
  {
   "cell_type": "code",
   "execution_count": 109,
   "metadata": {},
   "outputs": [
    {
     "name": "stdout",
     "output_type": "stream",
     "text": [
      "+--------------------+--------------------+--------------------+-----+-------------------+--------------------+------+-----+----+\n",
      "|           review_id|             user_id|         business_id|stars|               date|                text|useful|funny|cool|\n",
      "+--------------------+--------------------+--------------------+-----+-------------------+--------------------+------+-----+----+\n",
      "|xQY8N_XvtGbearJ5X...|OwjRMXRC0KyPrIlcj...|-MhfebM0QIsKt87iD...|  2.0|2015-04-15 05:21:16|As someone who ha...|     5|    0|   0|\n",
      "|UmFMZ8PyXZTY2Qcwz...|nIJD_7ZXHq-FX8byP...|lbrU8StCq3yDfr-QM...|  1.0|2013-12-07 03:16:52|I am actually hor...|     1|    1|   0|\n",
      "|LG2ZaYiOgpr2DK_90...|V34qejxNsCbcgD8C0...|HQl28KMwrEKHqhFrr...|  5.0|2015-12-05 03:18:11|I love Deagan's. ...|     1|    0|   0|\n",
      "|i6g_oA9Yf9Y31qt0w...|ofKDkJKXSKZXu5xJN...|5JxlZaqCnk1MnbgRi...|  1.0|2011-05-27 05:30:52|Dismal, lukewarm,...|     0|    0|   0|\n",
      "|6TdNDKywdbjoTkize...|UgMW8bLE0QMJDCkQ1...|IS4cv902ykd8wj1TR...|  4.0|2017-01-14 21:56:57|Oh happy day, fin...|     0|    0|   0|\n",
      "+--------------------+--------------------+--------------------+-----+-------------------+--------------------+------+-----+----+\n",
      "only showing top 5 rows\n",
      "\n"
     ]
    }
   ],
   "source": [
    "# df = hive_context.table(\"big_data_group_2.review\")\n",
    "rv = hive_context.sql('select * from big_data_group_2.review')\n",
    "# df=df.filter(df.id != \"id\")\n",
    "rv.show(5)"
   ]
  },
  {
   "cell_type": "code",
   "execution_count": 110,
   "metadata": {},
   "outputs": [
    {
     "data": {
      "text/plain": [
       "80211220"
      ]
     },
     "execution_count": 110,
     "metadata": {},
     "output_type": "execute_result"
    }
   ],
   "source": [
    "rv.count()"
   ]
  },
  {
   "cell_type": "code",
   "execution_count": 111,
   "metadata": {},
   "outputs": [
    {
     "name": "stdout",
     "output_type": "stream",
     "text": [
      "root\n",
      " |-- review_id: string (nullable = true)\n",
      " |-- user_id: string (nullable = true)\n",
      " |-- business_id: string (nullable = true)\n",
      " |-- stars: double (nullable = true)\n",
      " |-- date: string (nullable = true)\n",
      " |-- text: string (nullable = true)\n",
      " |-- useful: integer (nullable = true)\n",
      " |-- funny: integer (nullable = true)\n",
      " |-- cool: integer (nullable = true)\n",
      "\n"
     ]
    }
   ],
   "source": [
    "rv.printSchema()"
   ]
  },
  {
   "cell_type": "code",
   "execution_count": 112,
   "metadata": {},
   "outputs": [],
   "source": [
    "# 'date' to date format\n",
    "from pyspark.sql.functions import to_date\n",
    "\n",
    "rv = rv.withColumn('date', rv['date'].substr(1, 10))\n",
    "rv = rv.withColumn('date',to_date(rv.date, 'yyyy-mm-dd'))"
   ]
  },
  {
   "cell_type": "code",
   "execution_count": 113,
   "metadata": {},
   "outputs": [
    {
     "name": "stdout",
     "output_type": "stream",
     "text": [
      "+--------------------+--------------------+--------------------+-----+----------+--------------------+------+-----+----+\n",
      "|           review_id|             user_id|         business_id|stars|      date|                text|useful|funny|cool|\n",
      "+--------------------+--------------------+--------------------+-----+----------+--------------------+------+-----+----+\n",
      "|xQY8N_XvtGbearJ5X...|OwjRMXRC0KyPrIlcj...|-MhfebM0QIsKt87iD...|  2.0|2015-01-15|As someone who ha...|     5|    0|   0|\n",
      "|UmFMZ8PyXZTY2Qcwz...|nIJD_7ZXHq-FX8byP...|lbrU8StCq3yDfr-QM...|  1.0|2013-01-07|I am actually hor...|     1|    1|   0|\n",
      "|LG2ZaYiOgpr2DK_90...|V34qejxNsCbcgD8C0...|HQl28KMwrEKHqhFrr...|  5.0|2015-01-05|I love Deagan's. ...|     1|    0|   0|\n",
      "|i6g_oA9Yf9Y31qt0w...|ofKDkJKXSKZXu5xJN...|5JxlZaqCnk1MnbgRi...|  1.0|2011-01-27|Dismal, lukewarm,...|     0|    0|   0|\n",
      "|6TdNDKywdbjoTkize...|UgMW8bLE0QMJDCkQ1...|IS4cv902ykd8wj1TR...|  4.0|2017-01-14|Oh happy day, fin...|     0|    0|   0|\n",
      "+--------------------+--------------------+--------------------+-----+----------+--------------------+------+-----+----+\n",
      "only showing top 5 rows\n",
      "\n"
     ]
    }
   ],
   "source": [
    "rv.show(5)"
   ]
  },
  {
   "cell_type": "code",
   "execution_count": 114,
   "metadata": {},
   "outputs": [
    {
     "name": "stdout",
     "output_type": "stream",
     "text": [
      "root\n",
      " |-- review_id: string (nullable = true)\n",
      " |-- user_id: string (nullable = true)\n",
      " |-- business_id: string (nullable = true)\n",
      " |-- stars: double (nullable = true)\n",
      " |-- date: date (nullable = true)\n",
      " |-- text: string (nullable = true)\n",
      " |-- useful: integer (nullable = true)\n",
      " |-- funny: integer (nullable = true)\n",
      " |-- cool: integer (nullable = true)\n",
      "\n"
     ]
    }
   ],
   "source": [
    "rv.printSchema()"
   ]
  },
  {
   "cell_type": "code",
   "execution_count": 115,
   "metadata": {},
   "outputs": [],
   "source": [
    "#Filter\n",
    "rv=rv.select('review_id','user_id', 'business_id', 'stars')"
   ]
  },
  {
   "cell_type": "markdown",
   "metadata": {},
   "source": [
    "### Combining Data"
   ]
  },
  {
   "cell_type": "code",
   "execution_count": 116,
   "metadata": {},
   "outputs": [
    {
     "name": "stdout",
     "output_type": "stream",
     "text": [
      "+--------------------+--------------------+----------+---------+----------+------------+---------+--------------------+--------------------+-----+\n",
      "|         business_id|                name|categories| latitude| longitude|review_count|buz_stars|           review_id|             user_id|stars|\n",
      "+--------------------+--------------------+----------+---------+----------+------------+---------+--------------------+--------------------+-----+\n",
      "|--9e1ONYQuAa-CB_R...|Delmonico Steakhouse|      null|36.123183|-115.16919|        1759|      4.0|-ogKPaiHquD1m6Sxd...|qOODN0RsLbNQaLPN3...|  4.0|\n",
      "|--9e1ONYQuAa-CB_R...|Delmonico Steakhouse|      null|36.123183|-115.16919|        1759|      4.0|yJR3BJZSeGJItuXV7...|WU3XkIdG8qZwFW2wA...|  5.0|\n",
      "|--9e1ONYQuAa-CB_R...|Delmonico Steakhouse|      null|36.123183|-115.16919|        1759|      4.0|vlLBaxWA2-SHjTnMA...|KGcyC9KXloxW_6YMG...|  4.0|\n",
      "|--9e1ONYQuAa-CB_R...|Delmonico Steakhouse|      null|36.123183|-115.16919|        1759|      4.0|gYa9xXB4qhczLZjm_...|7-aG0q6MJ2cFEiMAy...|  4.0|\n",
      "|--9e1ONYQuAa-CB_R...|Delmonico Steakhouse|      null|36.123183|-115.16919|        1759|      4.0|38T33INVhI_u8eI5e...|5HSYogtb3uEJ2IiPa...|  5.0|\n",
      "+--------------------+--------------------+----------+---------+----------+------------+---------+--------------------+--------------------+-----+\n",
      "only showing top 5 rows\n",
      "\n"
     ]
    }
   ],
   "source": [
    "df = buz.join(rv, on=['business_id'], how='inner')\n",
    "df.show(5)"
   ]
  },
  {
   "cell_type": "code",
   "execution_count": 117,
   "metadata": {},
   "outputs": [
    {
     "data": {
      "text/plain": [
       "24448010"
      ]
     },
     "execution_count": 117,
     "metadata": {},
     "output_type": "execute_result"
    }
   ],
   "source": [
    "df.count()"
   ]
  },
  {
   "cell_type": "code",
   "execution_count": null,
   "metadata": {},
   "outputs": [],
   "source": []
  },
  {
   "cell_type": "markdown",
   "metadata": {},
   "source": [
    "### Preparing data for modeling"
   ]
  },
  {
   "cell_type": "code",
   "execution_count": 118,
   "metadata": {},
   "outputs": [],
   "source": [
    "import numpy as np\n",
    "import pandas as pd\n",
    "import matplotlib.pyplot as plt\n",
    "\n",
    "from pyspark.ml import Pipeline\n",
    "from pyspark.sql.functions import *\n",
    "from pyspark.sql.types import *\n",
    "\n",
    "\n",
    "from pyspark.sql import Row\n",
    "\n",
    "from pyspark.ml.recommendation import ALS, ALSModel\n",
    "from pyspark.ml.tuning import TrainValidationSplit, ParamGridBuilder, CrossValidator, CrossValidatorModel\n",
    "from pyspark.ml.evaluation import RegressionEvaluator\n"
   ]
  },
  {
   "cell_type": "code",
   "execution_count": null,
   "metadata": {},
   "outputs": [],
   "source": []
  },
  {
   "cell_type": "code",
   "execution_count": 119,
   "metadata": {},
   "outputs": [
    {
     "name": "stdout",
     "output_type": "stream",
     "text": [
      "+--------------------+-----+\n",
      "|             user_id|count|\n",
      "+--------------------+-----+\n",
      "|3lWVKWVA0DYEMIMJw...|   10|\n",
      "|ob6uKIIu7cRALM0fL...|   10|\n",
      "|foHqSyru1BDNuzdIs...|   10|\n",
      "|5wGOTD8ZqJeVWbwmn...|   10|\n",
      "|l7NCzf4eQkQ_Du-Gs...|   10|\n",
      "|PcuxUs5wP3g86jQ0d...|   10|\n",
      "|foCZOvOpMpn36MK4K...|   10|\n",
      "|xagGcvcPF-fxsyCgO...|   10|\n",
      "|8npuzCxM6rMMqvlyP...|   10|\n",
      "|X9rf45zpoNImG4fuX...|   10|\n",
      "|vRSetBkuRMrjZvpW7...|   10|\n",
      "|gv5lh2-NRqbPXFB9a...|   10|\n",
      "|U5RoLDX6wIwjp4EOV...|   10|\n",
      "|sowJXiMAF8mVUh0-9...|   10|\n",
      "|NiOq_r84QNayFfaHL...|   10|\n",
      "|FXAfppYvsI4v2tIur...|   10|\n",
      "|sNnVTS6bhbzarwnsK...|   10|\n",
      "|ZVx8UwKxAa4AbcmJe...|   10|\n",
      "|dk7HEI-bJkAfoJH8C...|   10|\n",
      "|OPE1WaiP29VEQJUNa...|   10|\n",
      "+--------------------+-----+\n",
      "only showing top 20 rows\n",
      "\n"
     ]
    }
   ],
   "source": [
    "# Show the minimum number of reviews \n",
    "df.groupBy('user_id').count().sort(\"count\").orderBy([\"count\"], descending=[0, 0]).show()"
   ]
  },
  {
   "cell_type": "code",
   "execution_count": 120,
   "metadata": {},
   "outputs": [
    {
     "data": {
      "text/plain": [
       "24448010"
      ]
     },
     "execution_count": 120,
     "metadata": {},
     "output_type": "execute_result"
    }
   ],
   "source": [
    "# Each user has at least 10 reviews, so consider all of them as active users\n",
    "df.select(\"stars\").count()"
   ]
  },
  {
   "cell_type": "code",
   "execution_count": 121,
   "metadata": {},
   "outputs": [
    {
     "data": {
      "text/plain": [
       "748960"
      ]
     },
     "execution_count": 121,
     "metadata": {},
     "output_type": "execute_result"
    }
   ],
   "source": [
    "#Unique users\n",
    "df.select(\"user_id\").distinct().count()\n",
    "# 1_968_703"
   ]
  },
  {
   "cell_type": "code",
   "execution_count": 122,
   "metadata": {},
   "outputs": [
    {
     "data": {
      "text/plain": [
       "31631"
      ]
     },
     "execution_count": 122,
     "metadata": {},
     "output_type": "execute_result"
    }
   ],
   "source": [
    "#Unique business\n",
    "df.select(\"business_id\").distinct().count()"
   ]
  },
  {
   "cell_type": "code",
   "execution_count": 123,
   "metadata": {},
   "outputs": [],
   "source": [
    "#building df2 for training\n",
    "# df2=df.select('user_id', 'business_id', 'stars')\n",
    "df2=df\n",
    "# df2.show(5)"
   ]
  },
  {
   "cell_type": "code",
   "execution_count": 124,
   "metadata": {},
   "outputs": [
    {
     "name": "stdout",
     "output_type": "stream",
     "text": [
      "+--------------------+------+\n",
      "|             user_id|userID|\n",
      "+--------------------+------+\n",
      "|3BsiFEeiP7y_IUE1i...|     0|\n",
      "|ECflfQ6kMX8DiScCF...|     1|\n",
      "+--------------------+------+\n",
      "only showing top 2 rows\n",
      "\n"
     ]
    }
   ],
   "source": [
    "user_newid_df=df2.select('user_id').distinct()\n",
    "user_newid_df = sqlContext.createDataFrame(user_newid_df.rdd.map(lambda x: x[0]).zipWithIndex(), \\\n",
    "        StructType([StructField(\"user_id\", StringType(), True),StructField(\"userID\", IntegerType(), True)]))\n",
    "\n",
    "user_newid_df.show(2)"
   ]
  },
  {
   "cell_type": "code",
   "execution_count": 125,
   "metadata": {},
   "outputs": [
    {
     "data": {
      "text/plain": [
       "748960"
      ]
     },
     "execution_count": 125,
     "metadata": {},
     "output_type": "execute_result"
    }
   ],
   "source": [
    "user_newid_df.count()"
   ]
  },
  {
   "cell_type": "code",
   "execution_count": 126,
   "metadata": {},
   "outputs": [
    {
     "name": "stdout",
     "output_type": "stream",
     "text": [
      "+--------------------+----------+\n",
      "|         business_id|businessID|\n",
      "+--------------------+----------+\n",
      "|--9e1ONYQuAa-CB_R...|         0|\n",
      "|-ElDqujEn1u64ynQr...|         1|\n",
      "+--------------------+----------+\n",
      "only showing top 2 rows\n",
      "\n"
     ]
    }
   ],
   "source": [
    "buz_newid_df=df2.select('business_id').distinct()\n",
    "buz_newid_df = sqlContext.createDataFrame(buz_newid_df.rdd.map(lambda x: x[0]).zipWithIndex(), \\\n",
    "        StructType([StructField(\"business_id\", StringType(), True),StructField(\"businessID\", IntegerType(), True)]))\n",
    "\n",
    "buz_newid_df.show(2)"
   ]
  },
  {
   "cell_type": "code",
   "execution_count": 127,
   "metadata": {},
   "outputs": [
    {
     "data": {
      "text/plain": [
       "31631"
      ]
     },
     "execution_count": 127,
     "metadata": {},
     "output_type": "execute_result"
    }
   ],
   "source": [
    "buz_newid_df.count()"
   ]
  },
  {
   "cell_type": "code",
   "execution_count": 128,
   "metadata": {},
   "outputs": [
    {
     "name": "stdout",
     "output_type": "stream",
     "text": [
      "+----------+--------------------+--------------------+\n",
      "|businessID|         business_id|                name|\n",
      "+----------+--------------------+--------------------+\n",
      "|         0|--9e1ONYQuAa-CB_R...|Delmonico Steakhouse|\n",
      "|         1|-ElDqujEn1u64ynQr...| McFarling Law Group|\n",
      "+----------+--------------------+--------------------+\n",
      "only showing top 2 rows\n",
      "\n"
     ]
    }
   ],
   "source": [
    "# add the new businessId column the business dataframe\n",
    "\n",
    "a = buz.alias(\"a\")\n",
    "b = buz_newid_df.alias(\"b\")\n",
    "    \n",
    "business_new_df = a.join(b, col(\"a.business_id\") == col(\"b.business_id\"), 'inner') \\\n",
    "             .select([col('a.'+xx) for xx in a.columns] + [col('b.businessID')])\n",
    "\n",
    "business_new_df.select('businessID','business_id', 'name').show(2)"
   ]
  },
  {
   "cell_type": "code",
   "execution_count": 129,
   "metadata": {},
   "outputs": [
    {
     "name": "stdout",
     "output_type": "stream",
     "text": [
      "+--------------------+--------------------+--------------------+----------+---------+----------+------------+---------+--------------------+-----+------+----------+\n",
      "|         business_id|             user_id|                name|categories| latitude| longitude|review_count|buz_stars|           review_id|stars|userID|businessID|\n",
      "+--------------------+--------------------+--------------------+----------+---------+----------+------------+---------+--------------------+-----+------+----------+\n",
      "|--9e1ONYQuAa-CB_R...|3Qv2rjPXC2eNKyV5l...|Delmonico Steakhouse|      null|36.123183|-115.16919|        1759|      4.0|ho7ZJ6cCt9tCwhjQH...|  5.0|614458|         0|\n",
      "|--9e1ONYQuAa-CB_R...|3Qv2rjPXC2eNKyV5l...|Delmonico Steakhouse|      null|36.123183|-115.16919|        1759|      4.0|ho7ZJ6cCt9tCwhjQH...|  5.0|614458|         0|\n",
      "|--9e1ONYQuAa-CB_R...|3Qv2rjPXC2eNKyV5l...|Delmonico Steakhouse|      null|36.123183|-115.16919|        1759|      4.0|ho7ZJ6cCt9tCwhjQH...|  5.0|614458|         0|\n",
      "|--9e1ONYQuAa-CB_R...|3Qv2rjPXC2eNKyV5l...|Delmonico Steakhouse|      null|36.123183|-115.16919|        1759|      4.0|ho7ZJ6cCt9tCwhjQH...|  5.0|614458|         0|\n",
      "|--9e1ONYQuAa-CB_R...|3Qv2rjPXC2eNKyV5l...|Delmonico Steakhouse|      null|36.123183|-115.16919|        1759|      4.0|ho7ZJ6cCt9tCwhjQH...|  5.0|614458|         0|\n",
      "+--------------------+--------------------+--------------------+----------+---------+----------+------------+---------+--------------------+-----+------+----------+\n",
      "only showing top 5 rows\n",
      "\n"
     ]
    }
   ],
   "source": [
    "df2=df2.join(user_newid_df, [\"user_id\"])\n",
    "df2=df2.join(buz_newid_df, [\"business_id\"])\n",
    "df2.show(5)"
   ]
  },
  {
   "cell_type": "code",
   "execution_count": 130,
   "metadata": {},
   "outputs": [
    {
     "name": "stdout",
     "output_type": "stream",
     "text": [
      "+--------------------+--------------------+--------------------+----------+----------+----------+------------+---------+--------------------+-----+------+----------+\n",
      "|         business_id|             user_id|                name|categories|  latitude| longitude|review_count|buz_stars|           review_id|stars|userID|businessID|\n",
      "+--------------------+--------------------+--------------------+----------+----------+----------+------------+---------+--------------------+-----+------+----------+\n",
      "|dk1MV0MP32Xq-iBxz...|5OPc0s5BiXbAv1pKg...|Tropical Smoothie...|      null|36.1141249|-115.30536|         286|      2.0|Em_SHmgb5d6UK7UfB...|  1.0| 40805|       100|\n",
      "|dk1MV0MP32Xq-iBxz...|5OPc0s5BiXbAv1pKg...|Tropical Smoothie...|      null|36.1141249|-115.30536|         286|      2.0|Em_SHmgb5d6UK7UfB...|  1.0| 40805|       100|\n",
      "|dk1MV0MP32Xq-iBxz...|5OPc0s5BiXbAv1pKg...|Tropical Smoothie...|      null|36.1141249|-115.30536|         286|      2.0|Em_SHmgb5d6UK7UfB...|  1.0| 40805|       100|\n",
      "|dk1MV0MP32Xq-iBxz...|5OPc0s5BiXbAv1pKg...|Tropical Smoothie...|      null|36.1141249|-115.30536|         286|      2.0|Em_SHmgb5d6UK7UfB...|  1.0| 40805|       100|\n",
      "|dk1MV0MP32Xq-iBxz...|5OPc0s5BiXbAv1pKg...|Tropical Smoothie...|      null|36.1141249|-115.30536|         286|      2.0|Em_SHmgb5d6UK7UfB...|  1.0| 40805|       100|\n",
      "|dk1MV0MP32Xq-iBxz...|5OPc0s5BiXbAv1pKg...|Tropical Smoothie...|      null|36.1141249|-115.30536|         286|      2.0|Em_SHmgb5d6UK7UfB...|  1.0| 40805|       100|\n",
      "|dk1MV0MP32Xq-iBxz...|5OPc0s5BiXbAv1pKg...|Tropical Smoothie...|      null|36.1141249|-115.30536|         286|      2.0|Em_SHmgb5d6UK7UfB...|  1.0| 40805|       100|\n",
      "|dk1MV0MP32Xq-iBxz...|5OPc0s5BiXbAv1pKg...|Tropical Smoothie...|      null|36.1141249|-115.30536|         286|      2.0|Em_SHmgb5d6UK7UfB...|  1.0| 40805|       100|\n",
      "|dk1MV0MP32Xq-iBxz...|5OPc0s5BiXbAv1pKg...|Tropical Smoothie...|      null|36.1141249|-115.30536|         286|      2.0|Em_SHmgb5d6UK7UfB...|  1.0| 40805|       100|\n",
      "|dk1MV0MP32Xq-iBxz...|5OPc0s5BiXbAv1pKg...|Tropical Smoothie...|      null|36.1141249|-115.30536|         286|      2.0|Em_SHmgb5d6UK7UfB...|  1.0| 40805|       100|\n",
      "|dk1MV0MP32Xq-iBxz...|cgkUqrnPG22s7TsP0...|Tropical Smoothie...|      null|36.1141249|-115.30536|         286|      2.0|X_A8SSl-RKT4wb_rJ...|  3.0| 42507|       100|\n",
      "|dk1MV0MP32Xq-iBxz...|cgkUqrnPG22s7TsP0...|Tropical Smoothie...|      null|36.1141249|-115.30536|         286|      2.0|X_A8SSl-RKT4wb_rJ...|  3.0| 42507|       100|\n",
      "|dk1MV0MP32Xq-iBxz...|cgkUqrnPG22s7TsP0...|Tropical Smoothie...|      null|36.1141249|-115.30536|         286|      2.0|X_A8SSl-RKT4wb_rJ...|  3.0| 42507|       100|\n",
      "|dk1MV0MP32Xq-iBxz...|cgkUqrnPG22s7TsP0...|Tropical Smoothie...|      null|36.1141249|-115.30536|         286|      2.0|X_A8SSl-RKT4wb_rJ...|  3.0| 42507|       100|\n",
      "|dk1MV0MP32Xq-iBxz...|cgkUqrnPG22s7TsP0...|Tropical Smoothie...|      null|36.1141249|-115.30536|         286|      2.0|X_A8SSl-RKT4wb_rJ...|  3.0| 42507|       100|\n",
      "|dk1MV0MP32Xq-iBxz...|cgkUqrnPG22s7TsP0...|Tropical Smoothie...|      null|36.1141249|-115.30536|         286|      2.0|X_A8SSl-RKT4wb_rJ...|  3.0| 42507|       100|\n",
      "|dk1MV0MP32Xq-iBxz...|cgkUqrnPG22s7TsP0...|Tropical Smoothie...|      null|36.1141249|-115.30536|         286|      2.0|X_A8SSl-RKT4wb_rJ...|  3.0| 42507|       100|\n",
      "|dk1MV0MP32Xq-iBxz...|cgkUqrnPG22s7TsP0...|Tropical Smoothie...|      null|36.1141249|-115.30536|         286|      2.0|X_A8SSl-RKT4wb_rJ...|  3.0| 42507|       100|\n",
      "|dk1MV0MP32Xq-iBxz...|cgkUqrnPG22s7TsP0...|Tropical Smoothie...|      null|36.1141249|-115.30536|         286|      2.0|X_A8SSl-RKT4wb_rJ...|  3.0| 42507|       100|\n",
      "|dk1MV0MP32Xq-iBxz...|cgkUqrnPG22s7TsP0...|Tropical Smoothie...|      null|36.1141249|-115.30536|         286|      2.0|X_A8SSl-RKT4wb_rJ...|  3.0| 42507|       100|\n",
      "|dk1MV0MP32Xq-iBxz...|1YRgw91MWE-pd8UCt...|Tropical Smoothie...|      null|36.1141249|-115.30536|         286|      2.0|HroEMcvfwBAFGSaWj...|  5.0| 70998|       100|\n",
      "|dk1MV0MP32Xq-iBxz...|1YRgw91MWE-pd8UCt...|Tropical Smoothie...|      null|36.1141249|-115.30536|         286|      2.0|HroEMcvfwBAFGSaWj...|  5.0| 70998|       100|\n",
      "|dk1MV0MP32Xq-iBxz...|1YRgw91MWE-pd8UCt...|Tropical Smoothie...|      null|36.1141249|-115.30536|         286|      2.0|HroEMcvfwBAFGSaWj...|  5.0| 70998|       100|\n",
      "|dk1MV0MP32Xq-iBxz...|1YRgw91MWE-pd8UCt...|Tropical Smoothie...|      null|36.1141249|-115.30536|         286|      2.0|HroEMcvfwBAFGSaWj...|  5.0| 70998|       100|\n",
      "|dk1MV0MP32Xq-iBxz...|1YRgw91MWE-pd8UCt...|Tropical Smoothie...|      null|36.1141249|-115.30536|         286|      2.0|HroEMcvfwBAFGSaWj...|  5.0| 70998|       100|\n",
      "|dk1MV0MP32Xq-iBxz...|1YRgw91MWE-pd8UCt...|Tropical Smoothie...|      null|36.1141249|-115.30536|         286|      2.0|HroEMcvfwBAFGSaWj...|  5.0| 70998|       100|\n",
      "|dk1MV0MP32Xq-iBxz...|1YRgw91MWE-pd8UCt...|Tropical Smoothie...|      null|36.1141249|-115.30536|         286|      2.0|HroEMcvfwBAFGSaWj...|  5.0| 70998|       100|\n",
      "|dk1MV0MP32Xq-iBxz...|1YRgw91MWE-pd8UCt...|Tropical Smoothie...|      null|36.1141249|-115.30536|         286|      2.0|HroEMcvfwBAFGSaWj...|  5.0| 70998|       100|\n",
      "|dk1MV0MP32Xq-iBxz...|1YRgw91MWE-pd8UCt...|Tropical Smoothie...|      null|36.1141249|-115.30536|         286|      2.0|HroEMcvfwBAFGSaWj...|  5.0| 70998|       100|\n",
      "|dk1MV0MP32Xq-iBxz...|1YRgw91MWE-pd8UCt...|Tropical Smoothie...|      null|36.1141249|-115.30536|         286|      2.0|HroEMcvfwBAFGSaWj...|  5.0| 70998|       100|\n",
      "|dk1MV0MP32Xq-iBxz...|TQr4kr9lCogd1NN8a...|Tropical Smoothie...|      null|36.1141249|-115.30536|         286|      2.0|UbthUw8QpfRmTmAJo...|  1.0| 70718|       100|\n",
      "|dk1MV0MP32Xq-iBxz...|TQr4kr9lCogd1NN8a...|Tropical Smoothie...|      null|36.1141249|-115.30536|         286|      2.0|UbthUw8QpfRmTmAJo...|  1.0| 70718|       100|\n",
      "|dk1MV0MP32Xq-iBxz...|TQr4kr9lCogd1NN8a...|Tropical Smoothie...|      null|36.1141249|-115.30536|         286|      2.0|UbthUw8QpfRmTmAJo...|  1.0| 70718|       100|\n",
      "|dk1MV0MP32Xq-iBxz...|TQr4kr9lCogd1NN8a...|Tropical Smoothie...|      null|36.1141249|-115.30536|         286|      2.0|UbthUw8QpfRmTmAJo...|  1.0| 70718|       100|\n",
      "|dk1MV0MP32Xq-iBxz...|TQr4kr9lCogd1NN8a...|Tropical Smoothie...|      null|36.1141249|-115.30536|         286|      2.0|UbthUw8QpfRmTmAJo...|  1.0| 70718|       100|\n",
      "|dk1MV0MP32Xq-iBxz...|TQr4kr9lCogd1NN8a...|Tropical Smoothie...|      null|36.1141249|-115.30536|         286|      2.0|UbthUw8QpfRmTmAJo...|  1.0| 70718|       100|\n",
      "|dk1MV0MP32Xq-iBxz...|TQr4kr9lCogd1NN8a...|Tropical Smoothie...|      null|36.1141249|-115.30536|         286|      2.0|UbthUw8QpfRmTmAJo...|  1.0| 70718|       100|\n",
      "|dk1MV0MP32Xq-iBxz...|TQr4kr9lCogd1NN8a...|Tropical Smoothie...|      null|36.1141249|-115.30536|         286|      2.0|UbthUw8QpfRmTmAJo...|  1.0| 70718|       100|\n",
      "|dk1MV0MP32Xq-iBxz...|TQr4kr9lCogd1NN8a...|Tropical Smoothie...|      null|36.1141249|-115.30536|         286|      2.0|UbthUw8QpfRmTmAJo...|  1.0| 70718|       100|\n",
      "|dk1MV0MP32Xq-iBxz...|TQr4kr9lCogd1NN8a...|Tropical Smoothie...|      null|36.1141249|-115.30536|         286|      2.0|UbthUw8QpfRmTmAJo...|  1.0| 70718|       100|\n",
      "|dk1MV0MP32Xq-iBxz...|UzcvzQlG7jsVGIsI4...|Tropical Smoothie...|      null|36.1141249|-115.30536|         286|      2.0|I0-HSNhMb7mF6-NFT...|  1.0| 71180|       100|\n",
      "|dk1MV0MP32Xq-iBxz...|UzcvzQlG7jsVGIsI4...|Tropical Smoothie...|      null|36.1141249|-115.30536|         286|      2.0|I0-HSNhMb7mF6-NFT...|  1.0| 71180|       100|\n",
      "|dk1MV0MP32Xq-iBxz...|UzcvzQlG7jsVGIsI4...|Tropical Smoothie...|      null|36.1141249|-115.30536|         286|      2.0|I0-HSNhMb7mF6-NFT...|  1.0| 71180|       100|\n",
      "|dk1MV0MP32Xq-iBxz...|UzcvzQlG7jsVGIsI4...|Tropical Smoothie...|      null|36.1141249|-115.30536|         286|      2.0|I0-HSNhMb7mF6-NFT...|  1.0| 71180|       100|\n",
      "|dk1MV0MP32Xq-iBxz...|UzcvzQlG7jsVGIsI4...|Tropical Smoothie...|      null|36.1141249|-115.30536|         286|      2.0|I0-HSNhMb7mF6-NFT...|  1.0| 71180|       100|\n",
      "|dk1MV0MP32Xq-iBxz...|UzcvzQlG7jsVGIsI4...|Tropical Smoothie...|      null|36.1141249|-115.30536|         286|      2.0|I0-HSNhMb7mF6-NFT...|  1.0| 71180|       100|\n",
      "|dk1MV0MP32Xq-iBxz...|UzcvzQlG7jsVGIsI4...|Tropical Smoothie...|      null|36.1141249|-115.30536|         286|      2.0|I0-HSNhMb7mF6-NFT...|  1.0| 71180|       100|\n",
      "|dk1MV0MP32Xq-iBxz...|UzcvzQlG7jsVGIsI4...|Tropical Smoothie...|      null|36.1141249|-115.30536|         286|      2.0|I0-HSNhMb7mF6-NFT...|  1.0| 71180|       100|\n",
      "|dk1MV0MP32Xq-iBxz...|UzcvzQlG7jsVGIsI4...|Tropical Smoothie...|      null|36.1141249|-115.30536|         286|      2.0|I0-HSNhMb7mF6-NFT...|  1.0| 71180|       100|\n",
      "|dk1MV0MP32Xq-iBxz...|UzcvzQlG7jsVGIsI4...|Tropical Smoothie...|      null|36.1141249|-115.30536|         286|      2.0|I0-HSNhMb7mF6-NFT...|  1.0| 71180|       100|\n",
      "|dk1MV0MP32Xq-iBxz...|IqqyBQb86YSYIz1e_...|Tropical Smoothie...|      null|36.1141249|-115.30536|         286|      2.0|SvhIg-OqWeddoABmY...|  1.0|295241|       100|\n",
      "|dk1MV0MP32Xq-iBxz...|IqqyBQb86YSYIz1e_...|Tropical Smoothie...|      null|36.1141249|-115.30536|         286|      2.0|SvhIg-OqWeddoABmY...|  1.0|295241|       100|\n",
      "|dk1MV0MP32Xq-iBxz...|IqqyBQb86YSYIz1e_...|Tropical Smoothie...|      null|36.1141249|-115.30536|         286|      2.0|SvhIg-OqWeddoABmY...|  1.0|295241|       100|\n",
      "|dk1MV0MP32Xq-iBxz...|IqqyBQb86YSYIz1e_...|Tropical Smoothie...|      null|36.1141249|-115.30536|         286|      2.0|SvhIg-OqWeddoABmY...|  1.0|295241|       100|\n",
      "|dk1MV0MP32Xq-iBxz...|IqqyBQb86YSYIz1e_...|Tropical Smoothie...|      null|36.1141249|-115.30536|         286|      2.0|SvhIg-OqWeddoABmY...|  1.0|295241|       100|\n",
      "|dk1MV0MP32Xq-iBxz...|IqqyBQb86YSYIz1e_...|Tropical Smoothie...|      null|36.1141249|-115.30536|         286|      2.0|SvhIg-OqWeddoABmY...|  1.0|295241|       100|\n",
      "|dk1MV0MP32Xq-iBxz...|IqqyBQb86YSYIz1e_...|Tropical Smoothie...|      null|36.1141249|-115.30536|         286|      2.0|SvhIg-OqWeddoABmY...|  1.0|295241|       100|\n",
      "|dk1MV0MP32Xq-iBxz...|IqqyBQb86YSYIz1e_...|Tropical Smoothie...|      null|36.1141249|-115.30536|         286|      2.0|SvhIg-OqWeddoABmY...|  1.0|295241|       100|\n",
      "|dk1MV0MP32Xq-iBxz...|IqqyBQb86YSYIz1e_...|Tropical Smoothie...|      null|36.1141249|-115.30536|         286|      2.0|SvhIg-OqWeddoABmY...|  1.0|295241|       100|\n",
      "|dk1MV0MP32Xq-iBxz...|IqqyBQb86YSYIz1e_...|Tropical Smoothie...|      null|36.1141249|-115.30536|         286|      2.0|SvhIg-OqWeddoABmY...|  1.0|295241|       100|\n",
      "|dk1MV0MP32Xq-iBxz...|0jo15haJT7JbrAiWO...|Tropical Smoothie...|      null|36.1141249|-115.30536|         286|      2.0|EPlFVzvPrZORwoaIH...|  5.0|105353|       100|\n",
      "|dk1MV0MP32Xq-iBxz...|0jo15haJT7JbrAiWO...|Tropical Smoothie...|      null|36.1141249|-115.30536|         286|      2.0|EPlFVzvPrZORwoaIH...|  5.0|105353|       100|\n",
      "|dk1MV0MP32Xq-iBxz...|0jo15haJT7JbrAiWO...|Tropical Smoothie...|      null|36.1141249|-115.30536|         286|      2.0|EPlFVzvPrZORwoaIH...|  5.0|105353|       100|\n",
      "|dk1MV0MP32Xq-iBxz...|0jo15haJT7JbrAiWO...|Tropical Smoothie...|      null|36.1141249|-115.30536|         286|      2.0|EPlFVzvPrZORwoaIH...|  5.0|105353|       100|\n",
      "|dk1MV0MP32Xq-iBxz...|0jo15haJT7JbrAiWO...|Tropical Smoothie...|      null|36.1141249|-115.30536|         286|      2.0|EPlFVzvPrZORwoaIH...|  5.0|105353|       100|\n",
      "|dk1MV0MP32Xq-iBxz...|0jo15haJT7JbrAiWO...|Tropical Smoothie...|      null|36.1141249|-115.30536|         286|      2.0|EPlFVzvPrZORwoaIH...|  5.0|105353|       100|\n",
      "|dk1MV0MP32Xq-iBxz...|0jo15haJT7JbrAiWO...|Tropical Smoothie...|      null|36.1141249|-115.30536|         286|      2.0|EPlFVzvPrZORwoaIH...|  5.0|105353|       100|\n",
      "|dk1MV0MP32Xq-iBxz...|0jo15haJT7JbrAiWO...|Tropical Smoothie...|      null|36.1141249|-115.30536|         286|      2.0|EPlFVzvPrZORwoaIH...|  5.0|105353|       100|\n",
      "|dk1MV0MP32Xq-iBxz...|0jo15haJT7JbrAiWO...|Tropical Smoothie...|      null|36.1141249|-115.30536|         286|      2.0|EPlFVzvPrZORwoaIH...|  5.0|105353|       100|\n",
      "|dk1MV0MP32Xq-iBxz...|0jo15haJT7JbrAiWO...|Tropical Smoothie...|      null|36.1141249|-115.30536|         286|      2.0|EPlFVzvPrZORwoaIH...|  5.0|105353|       100|\n",
      "|dk1MV0MP32Xq-iBxz...|5QqINRC_HPfZplB7M...|Tropical Smoothie...|      null|36.1141249|-115.30536|         286|      2.0|H3FeXvqVbf4XAujzw...|  1.0|107521|       100|\n",
      "|dk1MV0MP32Xq-iBxz...|5QqINRC_HPfZplB7M...|Tropical Smoothie...|      null|36.1141249|-115.30536|         286|      2.0|H3FeXvqVbf4XAujzw...|  1.0|107521|       100|\n",
      "|dk1MV0MP32Xq-iBxz...|5QqINRC_HPfZplB7M...|Tropical Smoothie...|      null|36.1141249|-115.30536|         286|      2.0|H3FeXvqVbf4XAujzw...|  1.0|107521|       100|\n",
      "|dk1MV0MP32Xq-iBxz...|5QqINRC_HPfZplB7M...|Tropical Smoothie...|      null|36.1141249|-115.30536|         286|      2.0|H3FeXvqVbf4XAujzw...|  1.0|107521|       100|\n",
      "|dk1MV0MP32Xq-iBxz...|5QqINRC_HPfZplB7M...|Tropical Smoothie...|      null|36.1141249|-115.30536|         286|      2.0|H3FeXvqVbf4XAujzw...|  1.0|107521|       100|\n",
      "|dk1MV0MP32Xq-iBxz...|5QqINRC_HPfZplB7M...|Tropical Smoothie...|      null|36.1141249|-115.30536|         286|      2.0|H3FeXvqVbf4XAujzw...|  1.0|107521|       100|\n",
      "|dk1MV0MP32Xq-iBxz...|5QqINRC_HPfZplB7M...|Tropical Smoothie...|      null|36.1141249|-115.30536|         286|      2.0|H3FeXvqVbf4XAujzw...|  1.0|107521|       100|\n",
      "|dk1MV0MP32Xq-iBxz...|5QqINRC_HPfZplB7M...|Tropical Smoothie...|      null|36.1141249|-115.30536|         286|      2.0|H3FeXvqVbf4XAujzw...|  1.0|107521|       100|\n",
      "|dk1MV0MP32Xq-iBxz...|5QqINRC_HPfZplB7M...|Tropical Smoothie...|      null|36.1141249|-115.30536|         286|      2.0|H3FeXvqVbf4XAujzw...|  1.0|107521|       100|\n",
      "|dk1MV0MP32Xq-iBxz...|5QqINRC_HPfZplB7M...|Tropical Smoothie...|      null|36.1141249|-115.30536|         286|      2.0|H3FeXvqVbf4XAujzw...|  1.0|107521|       100|\n",
      "|dk1MV0MP32Xq-iBxz...|FTSL0n508klzq0BD_...|Tropical Smoothie...|      null|36.1141249|-115.30536|         286|      2.0|b0_ZSs0CqV4PCgAtd...|  1.0|105015|       100|\n",
      "|dk1MV0MP32Xq-iBxz...|FTSL0n508klzq0BD_...|Tropical Smoothie...|      null|36.1141249|-115.30536|         286|      2.0|b0_ZSs0CqV4PCgAtd...|  1.0|105015|       100|\n",
      "|dk1MV0MP32Xq-iBxz...|FTSL0n508klzq0BD_...|Tropical Smoothie...|      null|36.1141249|-115.30536|         286|      2.0|b0_ZSs0CqV4PCgAtd...|  1.0|105015|       100|\n",
      "|dk1MV0MP32Xq-iBxz...|FTSL0n508klzq0BD_...|Tropical Smoothie...|      null|36.1141249|-115.30536|         286|      2.0|b0_ZSs0CqV4PCgAtd...|  1.0|105015|       100|\n",
      "|dk1MV0MP32Xq-iBxz...|FTSL0n508klzq0BD_...|Tropical Smoothie...|      null|36.1141249|-115.30536|         286|      2.0|b0_ZSs0CqV4PCgAtd...|  1.0|105015|       100|\n",
      "|dk1MV0MP32Xq-iBxz...|FTSL0n508klzq0BD_...|Tropical Smoothie...|      null|36.1141249|-115.30536|         286|      2.0|b0_ZSs0CqV4PCgAtd...|  1.0|105015|       100|\n",
      "|dk1MV0MP32Xq-iBxz...|FTSL0n508klzq0BD_...|Tropical Smoothie...|      null|36.1141249|-115.30536|         286|      2.0|b0_ZSs0CqV4PCgAtd...|  1.0|105015|       100|\n",
      "|dk1MV0MP32Xq-iBxz...|FTSL0n508klzq0BD_...|Tropical Smoothie...|      null|36.1141249|-115.30536|         286|      2.0|b0_ZSs0CqV4PCgAtd...|  1.0|105015|       100|\n",
      "|dk1MV0MP32Xq-iBxz...|FTSL0n508klzq0BD_...|Tropical Smoothie...|      null|36.1141249|-115.30536|         286|      2.0|b0_ZSs0CqV4PCgAtd...|  1.0|105015|       100|\n",
      "|dk1MV0MP32Xq-iBxz...|FTSL0n508klzq0BD_...|Tropical Smoothie...|      null|36.1141249|-115.30536|         286|      2.0|b0_ZSs0CqV4PCgAtd...|  1.0|105015|       100|\n",
      "|dk1MV0MP32Xq-iBxz...|tl6k6CLljb_vzCntY...|Tropical Smoothie...|      null|36.1141249|-115.30536|         286|      2.0|7lN87d2kBqA9wrVMl...|  5.0|108202|       100|\n",
      "|dk1MV0MP32Xq-iBxz...|tl6k6CLljb_vzCntY...|Tropical Smoothie...|      null|36.1141249|-115.30536|         286|      2.0|7lN87d2kBqA9wrVMl...|  5.0|108202|       100|\n",
      "|dk1MV0MP32Xq-iBxz...|tl6k6CLljb_vzCntY...|Tropical Smoothie...|      null|36.1141249|-115.30536|         286|      2.0|7lN87d2kBqA9wrVMl...|  5.0|108202|       100|\n",
      "|dk1MV0MP32Xq-iBxz...|tl6k6CLljb_vzCntY...|Tropical Smoothie...|      null|36.1141249|-115.30536|         286|      2.0|7lN87d2kBqA9wrVMl...|  5.0|108202|       100|\n",
      "|dk1MV0MP32Xq-iBxz...|tl6k6CLljb_vzCntY...|Tropical Smoothie...|      null|36.1141249|-115.30536|         286|      2.0|7lN87d2kBqA9wrVMl...|  5.0|108202|       100|\n",
      "|dk1MV0MP32Xq-iBxz...|tl6k6CLljb_vzCntY...|Tropical Smoothie...|      null|36.1141249|-115.30536|         286|      2.0|7lN87d2kBqA9wrVMl...|  5.0|108202|       100|\n",
      "|dk1MV0MP32Xq-iBxz...|tl6k6CLljb_vzCntY...|Tropical Smoothie...|      null|36.1141249|-115.30536|         286|      2.0|7lN87d2kBqA9wrVMl...|  5.0|108202|       100|\n",
      "|dk1MV0MP32Xq-iBxz...|tl6k6CLljb_vzCntY...|Tropical Smoothie...|      null|36.1141249|-115.30536|         286|      2.0|7lN87d2kBqA9wrVMl...|  5.0|108202|       100|\n",
      "|dk1MV0MP32Xq-iBxz...|tl6k6CLljb_vzCntY...|Tropical Smoothie...|      null|36.1141249|-115.30536|         286|      2.0|7lN87d2kBqA9wrVMl...|  5.0|108202|       100|\n",
      "|dk1MV0MP32Xq-iBxz...|tl6k6CLljb_vzCntY...|Tropical Smoothie...|      null|36.1141249|-115.30536|         286|      2.0|7lN87d2kBqA9wrVMl...|  5.0|108202|       100|\n",
      "+--------------------+--------------------+--------------------+----------+----------+----------+------------+---------+--------------------+-----+------+----------+\n",
      "only showing top 100 rows\n",
      "\n"
     ]
    }
   ],
   "source": [
    "#Check\n",
    "df2.filter(df2.businessID == 100).show(100)"
   ]
  },
  {
   "cell_type": "code",
   "execution_count": 131,
   "metadata": {},
   "outputs": [],
   "source": [
    "df3=df2.select('userID', 'businessID', df2.stars.cast('float').alias('rating'))"
   ]
  },
  {
   "cell_type": "code",
   "execution_count": 132,
   "metadata": {},
   "outputs": [],
   "source": [
    "# df3 = df3.withColumn(\"userID\",col(\"userID\").cast(DecimalType(38, 0))).withColumn(\"businessID\",col(\"businessID\").cast(DecimalType(38, 0)))\n",
    "# cast(DecimalType(38, 0))"
   ]
  },
  {
   "cell_type": "code",
   "execution_count": 133,
   "metadata": {},
   "outputs": [
    {
     "name": "stdout",
     "output_type": "stream",
     "text": [
      "+------+----------+------+\n",
      "|userID|businessID|rating|\n",
      "+------+----------+------+\n",
      "|345385|         0|   2.0|\n",
      "|345385|         0|   2.0|\n",
      "|345385|         0|   2.0|\n",
      "|345385|         0|   2.0|\n",
      "|345385|         0|   2.0|\n",
      "+------+----------+------+\n",
      "only showing top 5 rows\n",
      "\n"
     ]
    }
   ],
   "source": [
    "df3.show(5)"
   ]
  },
  {
   "cell_type": "code",
   "execution_count": 134,
   "metadata": {},
   "outputs": [
    {
     "name": "stdout",
     "output_type": "stream",
     "text": [
      "root\n",
      " |-- userID: integer (nullable = true)\n",
      " |-- businessID: integer (nullable = true)\n",
      " |-- rating: float (nullable = true)\n",
      "\n"
     ]
    }
   ],
   "source": [
    "df3.printSchema()"
   ]
  },
  {
   "cell_type": "markdown",
   "metadata": {},
   "source": [
    "### Building CF Models"
   ]
  },
  {
   "cell_type": "code",
   "execution_count": 135,
   "metadata": {},
   "outputs": [],
   "source": [
    "#Split\n",
    "(train, test) = df3.randomSplit([0.8, 0.2], seed=666)"
   ]
  },
  {
   "cell_type": "raw",
   "metadata": {},
   "source": [
    "als = ALS(userCol=\"userID\", itemCol=\"businessID\", ratingCol=\"rating\", coldStartStrategy=\"drop\")\n",
    "\n",
    "param_grid = ParamGridBuilder().addGrid(\n",
    "    als.rank,\n",
    "    [10, 15, 20],\n",
    ").addGrid(\n",
    "    als.maxIter,\n",
    "    [10, 15, 20],\n",
    ").build()\n",
    "\n",
    "evaluator = RegressionEvaluator(\n",
    "    metricName=\"rmse\",\n",
    "    labelCol=\"rating\",\n",
    ")\n",
    "\n",
    "\n",
    "cv = CrossValidator(estimator=als, estimatorParamMaps=param_grid, evaluator=evaluator, numFolds=5, seed=123)\n",
    "cv_als_model = cv.fit(train)\n",
    "\n",
    "\n",
    "\n",
    "# Evaluate the model by computing the RMSE on the test data\n",
    "\n",
    "als_predictions = cv_als_model.bestModel.transform(test)\n",
    "evaluator = RegressionEvaluator(metricName=\"rmse\", labelCol=\"rating\", predictionCol=\"prediction\")\n",
    "rmse = evaluator.evaluate(als_predictions)\n",
    "print(\"Root-mean-square error = \" + str(rmse))\n",
    "\n",
    "best_model = cv_als_model.bestModel\n"
   ]
  },
  {
   "cell_type": "markdown",
   "metadata": {},
   "source": [
    "Root-mean-square error = 2.623877828241486"
   ]
  },
  {
   "cell_type": "code",
   "execution_count": 136,
   "metadata": {},
   "outputs": [],
   "source": [
    "model_path = '/user/zxie8/big_data/'"
   ]
  },
  {
   "cell_type": "markdown",
   "metadata": {},
   "source": [
    "Model 1"
   ]
  },
  {
   "cell_type": "raw",
   "metadata": {},
   "source": [
    "# trying higher rank and maxIter need huge resources. try to tune regParam (default value = 0.1)\n",
    "\n",
    "alsb = ALS(rank=20, maxIter=20, regParam=0.3, userCol=\"userID\", itemCol=\"businessID\", ratingCol=\"rating\", \\\n",
    "               coldStartStrategy=\"drop\", seed=123)\n",
    "alsb_model = alsb.fit(train)\n",
    "\n",
    "alsb_predictions = alsb_model.transform(test)\n",
    "evaluator = RegressionEvaluator(metricName=\"rmse\", labelCol=\"rating\", predictionCol=\"prediction\")\n",
    "rmse = evaluator.evaluate(alsb_predictions)\n",
    "print(\"Root-mean-square error = \" + str(rmse))\n",
    "\n",
    "# save the ALS model\n",
    "alsb_model.write().overwrite().save(model_path + 'als_VG_1')"
   ]
  },
  {
   "cell_type": "markdown",
   "metadata": {},
   "source": [
    "Model 2"
   ]
  },
  {
   "cell_type": "raw",
   "metadata": {},
   "source": [
    "# trying higher rank and maxIter need huge resources. try to tune regParam (default value = 0.1)\n",
    "\n",
    "alsb = ALS(rank=20, maxIter=20, regParam=0.3, userCol=\"userID\", itemCol=\"businessID\", ratingCol=\"rating\", \\\n",
    "               coldStartStrategy=\"drop\", seed=123)\n",
    "alsb_model = alsb.fit(train)\n",
    "\n",
    "alsb_predictions = alsb_model.transform(test)\n",
    "evaluator = RegressionEvaluator(metricName=\"rmse\", labelCol=\"rating\", predictionCol=\"prediction\")\n",
    "rmse = evaluator.evaluate(alsb_predictions)\n",
    "print(\"Root-mean-square error = \" + str(rmse))\n",
    "\n",
    "# save the ALS model\n",
    "alsb_model.write().overwrite().save(model_path + 'als_VG_2')"
   ]
  },
  {
   "cell_type": "markdown",
   "metadata": {},
   "source": [
    "Model 3"
   ]
  },
  {
   "cell_type": "raw",
   "metadata": {},
   "source": [
    "alsb = ALS(rank=10, maxIter=10, regParam=0.1, userCol=\"userID\", itemCol=\"businessID\", ratingCol=\"rating\", \\\n",
    "               coldStartStrategy=\"drop\", seed=123)\n",
    "alsb_model = alsb.fit(train)\n",
    "\n",
    "alsb_predictions = alsb_model.transform(test)\n",
    "evaluator = RegressionEvaluator(metricName=\"rmse\", labelCol=\"rating\", predictionCol=\"prediction\")\n",
    "rmse = evaluator.evaluate(alsb_predictions)\n",
    "print(\"Root-mean-square error = \" + str(rmse))\n",
    "\n",
    "# save the ALS model\n",
    "alsb_model.write().overwrite().save(model_path + 'als_VG_3')"
   ]
  },
  {
   "cell_type": "markdown",
   "metadata": {},
   "source": [
    "Root-mean-square error = 2.1197205019461247"
   ]
  },
  {
   "cell_type": "code",
   "execution_count": 151,
   "metadata": {},
   "outputs": [],
   "source": [
    "alsn_model = ALSModel.load(model_path + 'als_VG_1')\n",
    "# alsn_model = ALSModel.load(model_path + 'als_VG_2')\n",
    "# alsn_model = ALSModel.load(model_path + 'als_VG_3')"
   ]
  },
  {
   "cell_type": "code",
   "execution_count": 152,
   "metadata": {},
   "outputs": [],
   "source": [
    "# generate top 10 business recommendations for each user\n",
    "\n",
    "userRecoms = alsn_model.recommendForAllUsers(10)"
   ]
  },
  {
   "cell_type": "code",
   "execution_count": 153,
   "metadata": {},
   "outputs": [
    {
     "name": "stdout",
     "output_type": "stream",
     "text": [
      "+------+----------------------------------------------------------------------------------------------------------------------------------------------------------------------------------------------+----------------------+\n",
      "|userID|recommendations                                                                                                                                                                               |user_id               |\n",
      "+------+----------------------------------------------------------------------------------------------------------------------------------------------------------------------------------------------+----------------------+\n",
      "|148   |[[27399, 4.358519], [2308, 4.351308], [61, 4.3355346], [25269, 4.3316636], [18439, 4.3287992], [28135, 4.3093123], [12470, 4.309261], [13222, 4.3076158], [22603, 4.304784], [8777, 4.294553]]|dTQQA8_CG1UDNiCDVxkqVw|\n",
      "+------+----------------------------------------------------------------------------------------------------------------------------------------------------------------------------------------------+----------------------+\n",
      "only showing top 1 row\n",
      "\n"
     ]
    }
   ],
   "source": [
    "# add the column user_id, cache the recommendaton dataframe and show recommedations sample\n",
    "\n",
    "a = userRecoms.alias(\"a\")\n",
    "b = user_newid_df.alias(\"b\")\n",
    "    \n",
    "all_userRecoms = a.join(b, col(\"a.userId\") == col(\"b.userId\"), 'inner') \\\n",
    "             .select([col('a.'+xx) for xx in a.columns] + [col('b.user_id')])\n",
    "\n",
    "all_userRecoms.cache()   \n",
    "all_userRecoms.show(1, truncate=False)"
   ]
  },
  {
   "cell_type": "code",
   "execution_count": 154,
   "metadata": {},
   "outputs": [
    {
     "name": "stdout",
     "output_type": "stream",
     "text": [
      "+----------+-----------------+\n",
      "|businessID|           rating|\n",
      "+----------+-----------------+\n",
      "|     12470|5.383881092071533|\n",
      "|     14118|5.335316181182861|\n",
      "|     27399|5.324843406677246|\n",
      "|        61|5.318561553955078|\n",
      "|     25269|5.312559604644775|\n",
      "|         2|5.312485694885254|\n",
      "|     29716|5.293753623962402|\n",
      "|      2308| 5.28790283203125|\n",
      "|      1809|5.282406330108643|\n",
      "|     28135|5.277737140655518|\n",
      "+----------+-----------------+\n",
      "\n"
     ]
    }
   ],
   "source": [
    "# show recommendations for some user id\n",
    "\n",
    "u_id = 'beD62otPliS9ewkWhBf6gw'\n",
    "\n",
    "userFlatRec =  sqlContext.createDataFrame(all_userRecoms.filter(col('user_id') == u_id).rdd.flatMap(lambda p: p[1]))\n",
    "userFlatRec.show()"
   ]
  },
  {
   "cell_type": "code",
   "execution_count": 155,
   "metadata": {},
   "outputs": [],
   "source": [
    "def showRecom(df):\n",
    "    \n",
    "    mp = folium.Map(location=[36.114647, -115.172813], zoom_start=12)\n",
    "\n",
    "    for i, r in df.toPandas().iterrows():\n",
    "        folium.Marker(\n",
    "                    location =[r.latitude, r.longitude], \n",
    "                    popup = html.escape(r[\"name\"]) + '<br>' + 'Stars: ' + str(r.buz_stars) + '<br>' + 'Reviews: ' + str(r.review_count),    \n",
    "                    icon = folium.Icon(color='blue')).add_to(mp)\n",
    "\n",
    "    return mp"
   ]
  },
  {
   "cell_type": "code",
   "execution_count": 156,
   "metadata": {},
   "outputs": [],
   "source": [
    "def getRecom(u_id):\n",
    "    \n",
    "\n",
    "    userFlatRec =  sqlContext.createDataFrame(all_userRecoms.filter(col('user_id') == u_id).rdd.flatMap(lambda p: p[1]))\n",
    "\n",
    "    a = userFlatRec.alias(\"a\")\n",
    "    b = business_new_df.alias(\"b\")\n",
    "    \n",
    "    return a.join(b, col(\"a.businessId\") == col(\"b.businessId\"), 'inner') \\\n",
    "             .select([col('b.business_id'), col('a.rating'), col('b.name'),col('b.categories'),\n",
    "                                                           col('b.buz_stars'),col('b.review_count'),\n",
    "                                                           col('b.latitude'),col('b.longitude')]) \\\n",
    "             .orderBy(\"rating\",\"buz_stars\",\"review_count\", ascending = False)"
   ]
  },
  {
   "cell_type": "code",
   "execution_count": 163,
   "metadata": {},
   "outputs": [
    {
     "data": {
      "text/html": [
       "<div>\n",
       "<style scoped>\n",
       "    .dataframe tbody tr th:only-of-type {\n",
       "        vertical-align: middle;\n",
       "    }\n",
       "\n",
       "    .dataframe tbody tr th {\n",
       "        vertical-align: top;\n",
       "    }\n",
       "\n",
       "    .dataframe thead th {\n",
       "        text-align: right;\n",
       "    }\n",
       "</style>\n",
       "<table border=\"1\" class=\"dataframe\">\n",
       "  <thead>\n",
       "    <tr style=\"text-align: right;\">\n",
       "      <th></th>\n",
       "      <th>business_id</th>\n",
       "      <th>rating</th>\n",
       "      <th>name</th>\n",
       "      <th>categories</th>\n",
       "      <th>buz_stars</th>\n",
       "      <th>review_count</th>\n",
       "      <th>latitude</th>\n",
       "      <th>longitude</th>\n",
       "    </tr>\n",
       "  </thead>\n",
       "  <tbody>\n",
       "    <tr>\n",
       "      <th>0</th>\n",
       "      <td>abkgaz0_23frFyJrdRZC_Q</td>\n",
       "      <td>5.054856</td>\n",
       "      <td>Nanette Lepore</td>\n",
       "      <td>None</td>\n",
       "      <td>5.0</td>\n",
       "      <td>3</td>\n",
       "      <td>36.1190372</td>\n",
       "      <td>-115.176005</td>\n",
       "    </tr>\n",
       "    <tr>\n",
       "      <th>1</th>\n",
       "      <td>2xSKmHrNWKFfpB9h6p3XkQ</td>\n",
       "      <td>4.968528</td>\n",
       "      <td>Nevada Legal Services</td>\n",
       "      <td>Professional Services, Tenant and Eviction Law...</td>\n",
       "      <td>4.5</td>\n",
       "      <td>7</td>\n",
       "      <td>36.1632812</td>\n",
       "      <td>-115.1433832</td>\n",
       "    </tr>\n",
       "    <tr>\n",
       "      <th>2</th>\n",
       "      <td>OcUVZniPo7CnIG-Tv83XcQ</td>\n",
       "      <td>4.903667</td>\n",
       "      <td>Karl M Larsen, OD</td>\n",
       "      <td>None</td>\n",
       "      <td>5.0</td>\n",
       "      <td>3</td>\n",
       "      <td>36.2189115</td>\n",
       "      <td>-115.2838436</td>\n",
       "    </tr>\n",
       "    <tr>\n",
       "      <th>3</th>\n",
       "      <td>cV8xXz0lqiUfVna710Iaag</td>\n",
       "      <td>4.890685</td>\n",
       "      <td>Sprint Store by Experts Choice</td>\n",
       "      <td>None</td>\n",
       "      <td>5.0</td>\n",
       "      <td>3</td>\n",
       "      <td>36.0855773</td>\n",
       "      <td>-115.101543</td>\n",
       "    </tr>\n",
       "    <tr>\n",
       "      <th>4</th>\n",
       "      <td>h1SWjGh9ewGN2Jv4RqJNDw</td>\n",
       "      <td>4.858448</td>\n",
       "      <td>Ali Lopez - Wardley Real Estate</td>\n",
       "      <td>None</td>\n",
       "      <td>5.0</td>\n",
       "      <td>3</td>\n",
       "      <td>36.180082</td>\n",
       "      <td>-115.243102</td>\n",
       "    </tr>\n",
       "    <tr>\n",
       "      <th>5</th>\n",
       "      <td>sN3jqoj6oG10zqwjjGY0Dw</td>\n",
       "      <td>4.846666</td>\n",
       "      <td>GlowRun</td>\n",
       "      <td>None</td>\n",
       "      <td>5.0</td>\n",
       "      <td>4</td>\n",
       "      <td>36.167053</td>\n",
       "      <td>-115.142227</td>\n",
       "    </tr>\n",
       "    <tr>\n",
       "      <th>6</th>\n",
       "      <td>Ck2We4s5U3DWULL8j_PRVw</td>\n",
       "      <td>4.845334</td>\n",
       "      <td>Ryoku Judo Club</td>\n",
       "      <td>None</td>\n",
       "      <td>5.0</td>\n",
       "      <td>3</td>\n",
       "      <td>36.124915</td>\n",
       "      <td>-115.191197</td>\n",
       "    </tr>\n",
       "    <tr>\n",
       "      <th>7</th>\n",
       "      <td>jE1yx2U1BDMddvDXsiQHvw</td>\n",
       "      <td>4.817109</td>\n",
       "      <td>Spyder</td>\n",
       "      <td>None</td>\n",
       "      <td>5.0</td>\n",
       "      <td>5</td>\n",
       "      <td>36.1629138</td>\n",
       "      <td>-115.1593311</td>\n",
       "    </tr>\n",
       "    <tr>\n",
       "      <th>8</th>\n",
       "      <td>YOXKs1t4o4XxMpckotRXXA</td>\n",
       "      <td>4.807481</td>\n",
       "      <td>Original Penguin</td>\n",
       "      <td>None</td>\n",
       "      <td>5.0</td>\n",
       "      <td>14</td>\n",
       "      <td>36.1092599</td>\n",
       "      <td>-115.1705243</td>\n",
       "    </tr>\n",
       "    <tr>\n",
       "      <th>9</th>\n",
       "      <td>XiVHxG2nUSp_bn4dBbs4Cg</td>\n",
       "      <td>4.804790</td>\n",
       "      <td>Sushi House Manda</td>\n",
       "      <td>None</td>\n",
       "      <td>5.0</td>\n",
       "      <td>6</td>\n",
       "      <td>36.102015</td>\n",
       "      <td>-115.2965319</td>\n",
       "    </tr>\n",
       "  </tbody>\n",
       "</table>\n",
       "</div>"
      ],
      "text/plain": [
       "              business_id    rating                             name  \\\n",
       "0  abkgaz0_23frFyJrdRZC_Q  5.054856                   Nanette Lepore   \n",
       "1  2xSKmHrNWKFfpB9h6p3XkQ  4.968528            Nevada Legal Services   \n",
       "2  OcUVZniPo7CnIG-Tv83XcQ  4.903667                Karl M Larsen, OD   \n",
       "3  cV8xXz0lqiUfVna710Iaag  4.890685   Sprint Store by Experts Choice   \n",
       "4  h1SWjGh9ewGN2Jv4RqJNDw  4.858448  Ali Lopez - Wardley Real Estate   \n",
       "5  sN3jqoj6oG10zqwjjGY0Dw  4.846666                          GlowRun   \n",
       "6  Ck2We4s5U3DWULL8j_PRVw  4.845334                  Ryoku Judo Club   \n",
       "7  jE1yx2U1BDMddvDXsiQHvw  4.817109                           Spyder   \n",
       "8  YOXKs1t4o4XxMpckotRXXA  4.807481                 Original Penguin   \n",
       "9  XiVHxG2nUSp_bn4dBbs4Cg  4.804790                Sushi House Manda   \n",
       "\n",
       "                                          categories buz_stars review_count  \\\n",
       "0                                               None       5.0            3   \n",
       "1  Professional Services, Tenant and Eviction Law...       4.5            7   \n",
       "2                                               None       5.0            3   \n",
       "3                                               None       5.0            3   \n",
       "4                                               None       5.0            3   \n",
       "5                                               None       5.0            4   \n",
       "6                                               None       5.0            3   \n",
       "7                                               None       5.0            5   \n",
       "8                                               None       5.0           14   \n",
       "9                                               None       5.0            6   \n",
       "\n",
       "     latitude     longitude  \n",
       "0  36.1190372   -115.176005  \n",
       "1  36.1632812  -115.1433832  \n",
       "2  36.2189115  -115.2838436  \n",
       "3  36.0855773   -115.101543  \n",
       "4   36.180082   -115.243102  \n",
       "5   36.167053   -115.142227  \n",
       "6   36.124915   -115.191197  \n",
       "7  36.1629138  -115.1593311  \n",
       "8  36.1092599  -115.1705243  \n",
       "9   36.102015  -115.2965319  "
      ]
     },
     "execution_count": 163,
     "metadata": {},
     "output_type": "execute_result"
    }
   ],
   "source": [
    "u_id = 'FNRQXCnpfb0ksDEZ4lANyg'\n",
    "\n",
    "getRecom(u_id).toPandas()"
   ]
  },
  {
   "cell_type": "code",
   "execution_count": 164,
   "metadata": {
    "scrolled": false
   },
   "outputs": [
    {
     "data": {
      "text/html": [
       "<div style=\"width:100%;\"><div style=\"position:relative;width:100%;height:0;padding-bottom:60%;\"><span style=\"color:#565656\">Make this Notebook Trusted to load map: File -> Trust Notebook</span><iframe src=\"about:blank\" style=\"position:absolute;width:100%;height:100%;left:0;top:0;border:none !important;\" data-html=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 onload=\"this.contentDocument.open();this.contentDocument.write(atob(this.getAttribute('data-html')));this.contentDocument.close();\" allowfullscreen webkitallowfullscreen mozallowfullscreen></iframe></div></div>"
      ],
      "text/plain": [
       "<folium.folium.Map at 0x7fe136402ba8>"
      ]
     },
     "execution_count": 164,
     "metadata": {},
     "output_type": "execute_result"
    }
   ],
   "source": [
    "u_id = 'FNRQXCnpfb0ksDEZ4lANyg'\n",
    "showRecom(getRecom(u_id))"
   ]
  },
  {
   "cell_type": "code",
   "execution_count": null,
   "metadata": {},
   "outputs": [],
   "source": []
  },
  {
   "cell_type": "code",
   "execution_count": 150,
   "metadata": {},
   "outputs": [
    {
     "name": "stdout",
     "output_type": "stream",
     "text": [
      "/home/zxie8/code\r\n"
     ]
    }
   ],
   "source": [
    "! pwd"
   ]
  }
 ],
 "metadata": {
  "kernelspec": {
   "display_name": "pySpark",
   "language": "python",
   "name": "pyspark"
  },
  "language_info": {
   "codemirror_mode": {
    "name": "ipython",
    "version": 3
   },
   "file_extension": ".py",
   "mimetype": "text/x-python",
   "name": "python",
   "nbconvert_exporter": "python",
   "pygments_lexer": "ipython3",
   "version": "3.6.8"
  }
 },
 "nbformat": 4,
 "nbformat_minor": 2
}
