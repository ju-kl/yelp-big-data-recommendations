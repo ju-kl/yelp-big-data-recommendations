{
 "cells": [
  {
   "cell_type": "code",
   "execution_count": 16,
   "metadata": {},
   "outputs": [],
   "source": [
    "#import statements\n",
    "from pyspark.sql import SparkSession"
   ]
  },
  {
   "cell_type": "code",
   "execution_count": 17,
   "metadata": {},
   "outputs": [],
   "source": [
    "spark = SparkSession.builder.enableHiveSupport().appName('ReadWriteData').getOrCreate()\n",
    "sc = spark.sparkContext"
   ]
  },
  {
   "cell_type": "code",
   "execution_count": 18,
   "metadata": {},
   "outputs": [
    {
     "name": "stdout",
     "output_type": "stream",
     "text": [
      "WARNING: log4j.properties is not found. HADOOP_CONF_DIR may be incomplete.\n",
      "Java HotSpot(TM) 64-Bit Server VM warning: ignoring option MaxPermSize=512M; support was removed in 8.0\n",
      "Found 13 items\n",
      "drwxr-xr-x   - zxie8 zxie8          0 2020-08-20 16:02 /user/zxie8/big_data/CF_Model_1\n",
      "drwxr-xr-x   - zxie8 zxie8          0 2020-08-25 02:06 /user/zxie8/big_data/CF_Model_VG_1\n",
      "-rw-r--r--   3 zxie8 zxie8       4215 2020-08-19 18:49 /user/zxie8/big_data/Movie_Collect.csv\n",
      "drwxr-xr-x   - zxie8 zxie8          0 2020-08-15 03:05 /user/zxie8/big_data/airports\n",
      "drwxr-xr-x   - zxie8 zxie8          0 2020-08-20 16:03 /user/zxie8/big_data/als\n",
      "drwxr-xr-x   - zxie8 zxie8          0 2020-08-20 18:10 /user/zxie8/big_data/als_1\n",
      "drwxr-xr-x   - zxie8 zxie8          0 2020-08-25 02:10 /user/zxie8/big_data/als_VG_1\n",
      "drwxr-xr-x   - zxie8 zxie8          0 2020-08-08 05:32 /user/zxie8/big_data/instacart\n",
      "drwxr-xr-x   - zxie8 zxie8          0 2020-08-08 06:55 /user/zxie8/big_data/movies\n",
      "-rw-r--r--   3 zxie8 zxie8   77447891 2020-08-18 22:30 /user/zxie8/big_data/mpst_full_data.csv\n",
      "-rw-r--r--   3 zxie8 zxie8     192794 2020-08-16 01:42 /user/zxie8/big_data/partition.json\n",
      "drwxr-xr-x   - zxie8 zxie8          0 2020-08-20 16:54 /user/zxie8/big_data/pipe_txt\n",
      "-rw-r--r--   3 zxie8 zxie8 6325565224 2020-08-05 22:22 /user/zxie8/big_data/review.json\n"
     ]
    }
   ],
   "source": [
    "#check to see if thata is available in HDFS\n",
    "!hdfs dfs -ls /user/zxie8/big_data/"
   ]
  },
  {
   "cell_type": "code",
   "execution_count": 19,
   "metadata": {},
   "outputs": [
    {
     "name": "stdout",
     "output_type": "stream",
     "text": [
      "CPU times: user 2.31 ms, sys: 615 µs, total: 2.93 ms\n",
      "Wall time: 124 ms\n"
     ]
    }
   ],
   "source": [
    "%time data = sc.textFile(\"/user/zxie8/big_data/review.json\")\n",
    "#%time data = sc.textFile(\"T:/data/chicago-food-inspections/food-inspections.csv\")"
   ]
  },
  {
   "cell_type": "code",
   "execution_count": 20,
   "metadata": {},
   "outputs": [
    {
     "name": "stdout",
     "output_type": "stream",
     "text": [
      "CPU times: user 15.8 ms, sys: 8.9 ms, total: 24.7 ms\n",
      "Wall time: 18.2 s\n"
     ]
    },
    {
     "data": {
      "text/plain": [
       "8021122"
      ]
     },
     "execution_count": 20,
     "metadata": {},
     "output_type": "execute_result"
    }
   ],
   "source": [
    "#Total Record Count\n",
    "%time data.count()"
   ]
  },
  {
   "cell_type": "markdown",
   "metadata": {},
   "source": [
    "### Reading Data"
   ]
  },
  {
   "cell_type": "code",
   "execution_count": 21,
   "metadata": {},
   "outputs": [],
   "source": [
    "path = \"/user/zxie8/big_data/review.json\"\n",
    "df = spark.read.json(path)"
   ]
  },
  {
   "cell_type": "code",
   "execution_count": 22,
   "metadata": {},
   "outputs": [],
   "source": [
    "# df=spark.read.json(\"/user/zxie8/big_data/review.json\", multiLine=True)"
   ]
  },
  {
   "cell_type": "code",
   "execution_count": 23,
   "metadata": {},
   "outputs": [
    {
     "data": {
      "text/plain": [
       "8021122"
      ]
     },
     "execution_count": 23,
     "metadata": {},
     "output_type": "execute_result"
    }
   ],
   "source": [
    "df.count()"
   ]
  },
  {
   "cell_type": "code",
   "execution_count": 24,
   "metadata": {},
   "outputs": [
    {
     "name": "stdout",
     "output_type": "stream",
     "text": [
      "root\n",
      " |-- business_id: string (nullable = true)\n",
      " |-- cool: long (nullable = true)\n",
      " |-- date: string (nullable = true)\n",
      " |-- funny: long (nullable = true)\n",
      " |-- review_id: string (nullable = true)\n",
      " |-- stars: double (nullable = true)\n",
      " |-- text: string (nullable = true)\n",
      " |-- useful: long (nullable = true)\n",
      " |-- user_id: string (nullable = true)\n",
      "\n"
     ]
    }
   ],
   "source": [
    "df.printSchema()"
   ]
  },
  {
   "cell_type": "code",
   "execution_count": 25,
   "metadata": {},
   "outputs": [],
   "source": [
    "df.createOrReplaceTempView(\"review\")"
   ]
  },
  {
   "cell_type": "code",
   "execution_count": 26,
   "metadata": {},
   "outputs": [],
   "source": [
    "# val df1 = spark.sql(\"SELECT * FROM  review limit 10\")\n",
    "# df1.show()"
   ]
  },
  {
   "cell_type": "code",
   "execution_count": 27,
   "metadata": {},
   "outputs": [
    {
     "name": "stdout",
     "output_type": "stream",
     "text": [
      "+--------------------+----+-------------------+-----+--------------------+-----+--------------------+------+--------------------+\n",
      "|         business_id|cool|               date|funny|           review_id|stars|                text|useful|             user_id|\n",
      "+--------------------+----+-------------------+-----+--------------------+-----+--------------------+------+--------------------+\n",
      "|-MhfebM0QIsKt87iD...|   0|2015-04-15 05:21:16|    0|xQY8N_XvtGbearJ5X...|  2.0|As someone who ha...|     5|OwjRMXRC0KyPrIlcj...|\n",
      "|lbrU8StCq3yDfr-QM...|   0|2013-12-07 03:16:52|    1|UmFMZ8PyXZTY2Qcwz...|  1.0|I am actually hor...|     1|nIJD_7ZXHq-FX8byP...|\n",
      "|HQl28KMwrEKHqhFrr...|   0|2015-12-05 03:18:11|    0|LG2ZaYiOgpr2DK_90...|  5.0|I love Deagan's. ...|     1|V34qejxNsCbcgD8C0...|\n",
      "+--------------------+----+-------------------+-----+--------------------+-----+--------------------+------+--------------------+\n",
      "only showing top 3 rows\n",
      "\n"
     ]
    }
   ],
   "source": [
    "df.show(3)"
   ]
  },
  {
   "cell_type": "code",
   "execution_count": 28,
   "metadata": {},
   "outputs": [],
   "source": [
    "from pyspark.sql import HiveContext\n",
    "hive_context = HiveContext(sc)"
   ]
  },
  {
   "cell_type": "code",
   "execution_count": 29,
   "metadata": {},
   "outputs": [
    {
     "name": "stdout",
     "output_type": "stream",
     "text": [
      "+--------------------+--------------------+--------------------+-----+-------------------+--------------------+------+-----+----+\n",
      "|           review_id|             user_id|         business_id|stars|               date|                text|useful|funny|cool|\n",
      "+--------------------+--------------------+--------------------+-----+-------------------+--------------------+------+-----+----+\n",
      "|xQY8N_XvtGbearJ5X...|OwjRMXRC0KyPrIlcj...|-MhfebM0QIsKt87iD...|  2.0|2015-04-15 05:21:16|As someone who ha...|     5|    0|   0|\n",
      "|UmFMZ8PyXZTY2Qcwz...|nIJD_7ZXHq-FX8byP...|lbrU8StCq3yDfr-QM...|  1.0|2013-12-07 03:16:52|I am actually hor...|     1|    1|   0|\n",
      "|LG2ZaYiOgpr2DK_90...|V34qejxNsCbcgD8C0...|HQl28KMwrEKHqhFrr...|  5.0|2015-12-05 03:18:11|I love Deagan's. ...|     1|    0|   0|\n",
      "|i6g_oA9Yf9Y31qt0w...|ofKDkJKXSKZXu5xJN...|5JxlZaqCnk1MnbgRi...|  1.0|2011-05-27 05:30:52|Dismal, lukewarm,...|     0|    0|   0|\n",
      "|6TdNDKywdbjoTkize...|UgMW8bLE0QMJDCkQ1...|IS4cv902ykd8wj1TR...|  4.0|2017-01-14 21:56:57|Oh happy day, fin...|     0|    0|   0|\n",
      "+--------------------+--------------------+--------------------+-----+-------------------+--------------------+------+-----+----+\n",
      "only showing top 5 rows\n",
      "\n"
     ]
    }
   ],
   "source": [
    "df1 = hive_context.table(\"big_data_group_2.review\")\n",
    "df1.show(5)"
   ]
  },
  {
   "cell_type": "code",
   "execution_count": 30,
   "metadata": {},
   "outputs": [
    {
     "name": "stdout",
     "output_type": "stream",
     "text": [
      "+--------------------+--------------------+--------------------+-----+-------------------+--------------------+------+-----+----+\n",
      "|           review_id|             user_id|         business_id|stars|               date|                text|useful|funny|cool|\n",
      "+--------------------+--------------------+--------------------+-----+-------------------+--------------------+------+-----+----+\n",
      "|xQY8N_XvtGbearJ5X...|OwjRMXRC0KyPrIlcj...|-MhfebM0QIsKt87iD...|  2.0|2015-04-15 05:21:16|As someone who ha...|     5|    0|   0|\n",
      "|UmFMZ8PyXZTY2Qcwz...|nIJD_7ZXHq-FX8byP...|lbrU8StCq3yDfr-QM...|  1.0|2013-12-07 03:16:52|I am actually hor...|     1|    1|   0|\n",
      "|LG2ZaYiOgpr2DK_90...|V34qejxNsCbcgD8C0...|HQl28KMwrEKHqhFrr...|  5.0|2015-12-05 03:18:11|I love Deagan's. ...|     1|    0|   0|\n",
      "|i6g_oA9Yf9Y31qt0w...|ofKDkJKXSKZXu5xJN...|5JxlZaqCnk1MnbgRi...|  1.0|2011-05-27 05:30:52|Dismal, lukewarm,...|     0|    0|   0|\n",
      "|6TdNDKywdbjoTkize...|UgMW8bLE0QMJDCkQ1...|IS4cv902ykd8wj1TR...|  4.0|2017-01-14 21:56:57|Oh happy day, fin...|     0|    0|   0|\n",
      "+--------------------+--------------------+--------------------+-----+-------------------+--------------------+------+-----+----+\n",
      "only showing top 5 rows\n",
      "\n"
     ]
    }
   ],
   "source": [
    "#display data in a table\n",
    "spark.sql('select * from big_data_group_2.review').show(5)"
   ]
  },
  {
   "cell_type": "code",
   "execution_count": 31,
   "metadata": {},
   "outputs": [],
   "source": [
    "from pyspark.sql import functions as F\n",
    "\n",
    "import matplotlib.pyplot as plt\n",
    "%matplotlib inline"
   ]
  },
  {
   "cell_type": "code",
   "execution_count": 32,
   "metadata": {},
   "outputs": [
    {
     "data": {
      "text/plain": [
       "48"
      ]
     },
     "execution_count": 32,
     "metadata": {},
     "output_type": "execute_result"
    }
   ],
   "source": [
    "df.rdd.getNumPartitions()"
   ]
  },
  {
   "cell_type": "code",
   "execution_count": 33,
   "metadata": {},
   "outputs": [
    {
     "data": {
      "text/plain": [
       "[('business_id', 'string'),\n",
       " ('cool', 'bigint'),\n",
       " ('date', 'string'),\n",
       " ('funny', 'bigint'),\n",
       " ('review_id', 'string'),\n",
       " ('stars', 'double'),\n",
       " ('text', 'string'),\n",
       " ('useful', 'bigint'),\n",
       " ('user_id', 'string')]"
      ]
     },
     "execution_count": 33,
     "metadata": {},
     "output_type": "execute_result"
    }
   ],
   "source": [
    "df.dtypes"
   ]
  },
  {
   "cell_type": "code",
   "execution_count": 34,
   "metadata": {},
   "outputs": [
    {
     "name": "stdout",
     "output_type": "stream",
     "text": [
      "root\n",
      " |-- business_id: string (nullable = true)\n",
      " |-- cool: long (nullable = true)\n",
      " |-- date: string (nullable = true)\n",
      " |-- funny: long (nullable = true)\n",
      " |-- review_id: string (nullable = true)\n",
      " |-- stars: double (nullable = true)\n",
      " |-- text: string (nullable = true)\n",
      " |-- useful: long (nullable = true)\n",
      " |-- user_id: string (nullable = true)\n",
      "\n"
     ]
    }
   ],
   "source": [
    "df.printSchema()"
   ]
  },
  {
   "cell_type": "code",
   "execution_count": 35,
   "metadata": {},
   "outputs": [
    {
     "name": "stdout",
     "output_type": "stream",
     "text": [
      "+--------------------+----+-------------------+-----+--------------------+-----+--------------------+------+--------------------+\n",
      "|         business_id|cool|               date|funny|           review_id|stars|                text|useful|             user_id|\n",
      "+--------------------+----+-------------------+-----+--------------------+-----+--------------------+------+--------------------+\n",
      "|-MhfebM0QIsKt87iD...|   0|2015-04-15 05:21:16|    0|xQY8N_XvtGbearJ5X...|  2.0|As someone who ha...|     5|OwjRMXRC0KyPrIlcj...|\n",
      "|lbrU8StCq3yDfr-QM...|   0|2013-12-07 03:16:52|    1|UmFMZ8PyXZTY2Qcwz...|  1.0|I am actually hor...|     1|nIJD_7ZXHq-FX8byP...|\n",
      "|HQl28KMwrEKHqhFrr...|   0|2015-12-05 03:18:11|    0|LG2ZaYiOgpr2DK_90...|  5.0|I love Deagan's. ...|     1|V34qejxNsCbcgD8C0...|\n",
      "+--------------------+----+-------------------+-----+--------------------+-----+--------------------+------+--------------------+\n",
      "only showing top 3 rows\n",
      "\n"
     ]
    }
   ],
   "source": [
    "df.show(3)"
   ]
  },
  {
   "cell_type": "code",
   "execution_count": 36,
   "metadata": {},
   "outputs": [
    {
     "name": "stdout",
     "output_type": "stream",
     "text": [
      "+--------------------+--------------------+--------------------+-----+-------------------+--------------------+------+-----+----+\n",
      "|           review_id|             user_id|         business_id|stars|               date|                text|useful|funny|cool|\n",
      "+--------------------+--------------------+--------------------+-----+-------------------+--------------------+------+-----+----+\n",
      "|xQY8N_XvtGbearJ5X...|OwjRMXRC0KyPrIlcj...|-MhfebM0QIsKt87iD...|  2.0|2015-04-15 05:21:16|As someone who ha...|     5|    0|   0|\n",
      "|UmFMZ8PyXZTY2Qcwz...|nIJD_7ZXHq-FX8byP...|lbrU8StCq3yDfr-QM...|  1.0|2013-12-07 03:16:52|I am actually hor...|     1|    1|   0|\n",
      "|LG2ZaYiOgpr2DK_90...|V34qejxNsCbcgD8C0...|HQl28KMwrEKHqhFrr...|  5.0|2015-12-05 03:18:11|I love Deagan's. ...|     1|    0|   0|\n",
      "+--------------------+--------------------+--------------------+-----+-------------------+--------------------+------+-----+----+\n",
      "only showing top 3 rows\n",
      "\n"
     ]
    }
   ],
   "source": [
    "df1.show(3)"
   ]
  },
  {
   "cell_type": "code",
   "execution_count": 37,
   "metadata": {},
   "outputs": [
    {
     "name": "stdout",
     "output_type": "stream",
     "text": [
      "+-----+-------+\n",
      "|stars|  count|\n",
      "+-----+-------+\n",
      "|  1.0|1283897|\n",
      "|  2.0| 635072|\n",
      "|  3.0| 842289|\n",
      "|  4.0|1673404|\n",
      "|  5.0|3586460|\n",
      "+-----+-------+\n",
      "\n"
     ]
    }
   ],
   "source": [
    "dat1=df.groupby(\"stars\").count().sort(\"stars\")\n",
    "dat1.show()"
   ]
  },
  {
   "cell_type": "markdown",
   "metadata": {},
   "source": [
    "### Making Plots"
   ]
  },
  {
   "cell_type": "code",
   "execution_count": 38,
   "metadata": {},
   "outputs": [],
   "source": [
    "# Error!!!\n",
    "# pdf = df.toPandas()\n",
    "# pdf.plot(kind= 'bar', x='stars')"
   ]
  },
  {
   "cell_type": "code",
   "execution_count": 39,
   "metadata": {},
   "outputs": [
    {
     "data": {
      "text/plain": [
       "<matplotlib.axes._subplots.AxesSubplot at 0x7f25e81c4a58>"
      ]
     },
     "execution_count": 39,
     "metadata": {},
     "output_type": "execute_result"
    },
    {
     "data": {
      "image/png": "[encoded data removed]",
      "text/plain": [
       "<Figure size 432x288 with 1 Axes>"
      ]
     },
     "metadata": {},
     "output_type": "display_data"
    }
   ],
   "source": [
    "pdf_dat1=dat1.toPandas()\n",
    "pdf_dat1.plot(kind= 'bar', x='stars')"
   ]
  },
  {
   "cell_type": "code",
   "execution_count": 78,
   "metadata": {},
   "outputs": [
    {
     "data": {
      "text/plain": [
       "<matplotlib.axes._subplots.AxesSubplot at 0x7f474d360fd0>"
      ]
     },
     "execution_count": 78,
     "metadata": {},
     "output_type": "execute_result"
    },
    {
     "data": {
      "image/png": "[encoded data removed]",
      "text/plain": [
       "<Figure size 1440x504 with 1 Axes>"
      ]
     },
     "metadata": {},
     "output_type": "display_data"
    }
   ],
   "source": [
    "dat1=df.groupby(\"funny\").count().sort(\"funny\").orderBy([\"funny\"], descending=[0])\n",
    "pdf_dat1=dat1.toPandas()\n",
    "pdf_dat1.plot(figsize=(20,7),kind= 'bar', x='funny')"
   ]
  },
  {
   "cell_type": "code",
   "execution_count": 80,
   "metadata": {},
   "outputs": [
    {
     "data": {
      "text/plain": [
       "<matplotlib.axes._subplots.AxesSubplot at 0x7f474ddad780>"
      ]
     },
     "execution_count": 80,
     "metadata": {},
     "output_type": "execute_result"
    },
    {
     "data": {
      "image/png": "[encoded data removed]",
      "text/plain": [
       "<Figure size 1440x504 with 1 Axes>"
      ]
     },
     "metadata": {},
     "output_type": "display_data"
    }
   ],
   "source": [
    "dat2=df.groupby(\"cool\").count().sort(\"cool\").orderBy([\"cool\"], descending=[0])\n",
    "pdf_dat2=dat2.toPandas()\n",
    "pdf_dat2.plot(figsize=(20,7),kind= 'bar', x='cool')"
   ]
  },
  {
   "cell_type": "code",
   "execution_count": 81,
   "metadata": {},
   "outputs": [
    {
     "data": {
      "text/plain": [
       "<matplotlib.axes._subplots.AxesSubplot at 0x7f474cb7b7b8>"
      ]
     },
     "execution_count": 81,
     "metadata": {},
     "output_type": "execute_result"
    },
    {
     "data": {
      "image/png": "[encoded data removed]",
      "text/plain": [
       "<Figure size 1440x504 with 1 Axes>"
      ]
     },
     "metadata": {},
     "output_type": "display_data"
    }
   ],
   "source": [
    "dat3=df.groupby(\"useful\").count().sort(\"useful\").orderBy([\"useful\"], descending=[0])\n",
    "pdf_dat3=dat3.toPandas()\n",
    "pdf_dat3.plot(figsize=(20,7),kind= 'bar', x='useful')"
   ]
  },
  {
   "cell_type": "code",
   "execution_count": 83,
   "metadata": {},
   "outputs": [
    {
     "data": {
      "text/plain": [
       "<matplotlib.axes._subplots.AxesSubplot at 0x7f474c5bcf98>"
      ]
     },
     "execution_count": 83,
     "metadata": {},
     "output_type": "execute_result"
    },
    {
     "data": {
      "image/png": "[encoded data removed]",
      "text/plain": [
       "<Figure size 1440x504 with 1 Axes>"
      ]
     },
     "metadata": {},
     "output_type": "display_data"
    }
   ],
   "source": [
    "dat3=df.filter(df.useful <= 10).groupby(\"useful\").count().sort(\"useful\").orderBy([\"useful\"], descending=[0])\n",
    "pdf_dat3=dat3.toPandas()\n",
    "pdf_dat3.plot(figsize=(20,7),kind= 'bar', x='useful')"
   ]
  },
  {
   "cell_type": "code",
   "execution_count": 2,
   "metadata": {},
   "outputs": [],
   "source": [
    "from pyspark.sql import SparkSession\n",
    "from pyspark.sql import HiveContext\n",
    "hive_context = HiveContext(sc)"
   ]
  },
  {
   "cell_type": "code",
   "execution_count": 3,
   "metadata": {},
   "outputs": [],
   "source": [
    "bus_by_ratings = hive_context.sql('select * from big_data_group_2.business_julian')"
   ]
  },
  {
   "cell_type": "code",
   "execution_count": 9,
   "metadata": {},
   "outputs": [],
   "source": [
    "# import seaborn as sns\n",
    "# # plt.figure(figsize = (10,10))\n",
    "\n",
    "# ax = sns.barplot(bus_by_ratings.business_id, bus_by_ratings.stars, alpha = 0.5, palette = 'rainbow_r')\n",
    "# plt.title(\"Distribution of Ratings\")\n",
    "# plt.ylabel('Count', fontsize = 12)\n",
    "# plt.xlabel('Rating (out of 5 stars) ', fontsize = 12)\n",
    "\n",
    "# plt.show()"
   ]
  },
  {
   "cell_type": "code",
   "execution_count": 14,
   "metadata": {},
   "outputs": [
    {
     "name": "stdout",
     "output_type": "stream",
     "text": [
      "+-----+-----+\n",
      "|stars|count|\n",
      "+-----+-----+\n",
      "|  1.0| 5898|\n",
      "|  1.5| 6004|\n",
      "|  2.0|13124|\n",
      "|  2.5|21435|\n",
      "|  3.0|28634|\n",
      "|  3.5|38079|\n",
      "|  4.0|39199|\n",
      "|  4.5|29940|\n",
      "|  5.0|27080|\n",
      "+-----+-----+\n",
      "\n"
     ]
    }
   ],
   "source": [
    "bus_by_ratings1=bus_by_ratings.groupby(\"stars\").count().sort(\"stars\")\n",
    "bus_by_ratings1.show()"
   ]
  },
  {
   "cell_type": "code",
   "execution_count": 15,
   "metadata": {},
   "outputs": [
    {
     "data": {
      "text/plain": [
       "<matplotlib.axes._subplots.AxesSubplot at 0x7f25f0f46ef0>"
      ]
     },
     "execution_count": 15,
     "metadata": {},
     "output_type": "execute_result"
    },
    {
     "data": {
      "image/png": "[encoded data removed]",
      "text/plain": [
       "<Figure size 432x288 with 1 Axes>"
      ]
     },
     "metadata": {},
     "output_type": "display_data"
    }
   ],
   "source": [
    "pdf_bus_by_ratings1=bus_by_ratings1.toPandas()\n",
    "pdf_bus_by_ratings1.plot(kind= 'bar', x='stars')"
   ]
  },
  {
   "cell_type": "code",
   "execution_count": null,
   "metadata": {},
   "outputs": [],
   "source": []
  }
 ],
 "metadata": {
  "kernelspec": {
   "display_name": "pySpark",
   "language": "python",
   "name": "pyspark"
  },
  "language_info": {
   "codemirror_mode": {
    "name": "ipython",
    "version": 3
   },
   "file_extension": ".py",
   "mimetype": "text/x-python",
   "name": "python",
   "nbconvert_exporter": "python",
   "pygments_lexer": "ipython3",
   "version": "3.6.8"
  }
 },
 "nbformat": 4,
 "nbformat_minor": 2
}
